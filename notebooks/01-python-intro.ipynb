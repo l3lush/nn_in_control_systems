{
 "cells": [
  {
   "cell_type": "markdown",
   "id": "8f7c7a51",
   "metadata": {},
   "source": [
    "# Переменные"
   ]
  },
  {
   "cell_type": "markdown",
   "id": "2f640047",
   "metadata": {},
   "source": [
    "В Python, как и в любом языке программирования есть переменные.  \n",
    "Значительные отличия заключаются в том, что в Python используется ссылочная модель данных."
   ]
  },
  {
   "cell_type": "code",
   "execution_count": 1,
   "id": "26bbdc73",
   "metadata": {},
   "outputs": [],
   "source": [
    "a = 5  # переменная a ССЫЛАЕТСЯ на значение 5\n",
    "b = 10  # переменная b ССЫЛАЕТСЯ на значение 10"
   ]
  },
  {
   "cell_type": "markdown",
   "id": "890c5aca",
   "metadata": {},
   "source": [
    "Арифметические операции (сумма, разница, умножение, частное и пр.)"
   ]
  },
  {
   "cell_type": "code",
   "execution_count": 2,
   "id": "2b828be2",
   "metadata": {},
   "outputs": [
    {
     "name": "stdout",
     "output_type": "stream",
     "text": [
      "sum = 15\n",
      "diff = -5\n",
      "dot = 50\n",
      "div = 0.5\n",
      "integer div = 0\n",
      "remainder div = 5\n"
     ]
    }
   ],
   "source": [
    "sum_a_b = a + b\n",
    "print(\"sum =\", sum_a_b)\n",
    "\n",
    "diff_a_b = a - b\n",
    "print(\"diff =\", diff_a_b)\n",
    "\n",
    "dot_a_b = a * b\n",
    "print(\"dot =\", dot_a_b)\n",
    "\n",
    "div_a_b = a / b\n",
    "print(\"div =\", div_a_b)\n",
    "\n",
    "int_div_a_b = a // b\n",
    "print(\"integer div =\", int_div_a_b)\n",
    "\n",
    "rem_div_a_b = a % b\n",
    "print(\"remainder div =\", rem_div_a_b)"
   ]
  },
  {
   "cell_type": "markdown",
   "id": "b3058c76",
   "metadata": {},
   "source": [
    "# Типы данных"
   ]
  },
  {
   "cell_type": "code",
   "execution_count": 3,
   "id": "ae612dfc",
   "metadata": {},
   "outputs": [
    {
     "name": "stdout",
     "output_type": "stream",
     "text": [
      "<class 'str'>\n",
      "<class 'float'>\n",
      "<class 'list'>\n",
      "<class 'tuple'>\n",
      "<class 'set'>\n",
      "<class 'dict'>\n"
     ]
    }
   ],
   "source": [
    "g = \"bla bla\"  # string == строка\n",
    "print(type(g))\n",
    "\n",
    "h = 5.0  # float == дробное число\n",
    "print(type(h))\n",
    "\n",
    "c = [1, 2, 3]  # list == список \n",
    "print(type(c))\n",
    "\n",
    "d = (1, 2, 3)  # tuple == кортеж\n",
    "print(type(d))\n",
    "\n",
    "e = {1, 2, 3}  # set == множество\n",
    "print(type(e))\n",
    "\n",
    "f = {1: 2, 3: 4}  # dict == словарь\n",
    "print(type(f))"
   ]
  },
  {
   "cell_type": "markdown",
   "id": "a5c2f41c",
   "metadata": {},
   "source": [
    "# Условные операторы"
   ]
  },
  {
   "cell_type": "code",
   "execution_count": 4,
   "id": "6133ee63",
   "metadata": {},
   "outputs": [
    {
     "name": "stdout",
     "output_type": "stream",
     "text": [
      "а больше 3\n"
     ]
    }
   ],
   "source": [
    "a = 5\n",
    "if a > 5:\n",
    "    print(\"a больше 5\")\n",
    "elif a > 3:  # else + if\n",
    "    print(\"а больше 3\")\n",
    "else:\n",
    "    print(\"a меньше 3\")"
   ]
  },
  {
   "cell_type": "markdown",
   "id": "0d456bd4",
   "metadata": {},
   "source": [
    "# Циклы"
   ]
  },
  {
   "cell_type": "code",
   "execution_count": 5,
   "id": "94eefa28",
   "metadata": {},
   "outputs": [
    {
     "name": "stdout",
     "output_type": "stream",
     "text": [
      "0\n",
      "1\n",
      "2\n",
      "3\n",
      "4\n"
     ]
    }
   ],
   "source": [
    "for i in range(5):\n",
    "    print(i)"
   ]
  },
  {
   "cell_type": "code",
   "execution_count": 6,
   "id": "fa626d43",
   "metadata": {},
   "outputs": [
    {
     "data": {
      "text/plain": [
       "range(0, 5)"
      ]
     },
     "execution_count": 6,
     "metadata": {},
     "output_type": "execute_result"
    }
   ],
   "source": [
    "range(5)"
   ]
  },
  {
   "cell_type": "code",
   "execution_count": 8,
   "id": "4f52a035",
   "metadata": {},
   "outputs": [],
   "source": [
    "bb = list(range(5))"
   ]
  },
  {
   "cell_type": "code",
   "execution_count": 9,
   "id": "3b70efc8",
   "metadata": {},
   "outputs": [
    {
     "data": {
      "text/plain": [
       "list"
      ]
     },
     "execution_count": 9,
     "metadata": {},
     "output_type": "execute_result"
    }
   ],
   "source": [
    "type(bb)"
   ]
  },
  {
   "cell_type": "code",
   "execution_count": 10,
   "id": "098d66af",
   "metadata": {},
   "outputs": [
    {
     "name": "stdout",
     "output_type": "stream",
     "text": [
      "раз\n",
      "два\n",
      "три\n"
     ]
    }
   ],
   "source": [
    "words = [\"раз\", \"два\", \"три\"]\n",
    "for element in words:\n",
    "    print(element)"
   ]
  },
  {
   "cell_type": "code",
   "execution_count": 11,
   "id": "4842522b",
   "metadata": {},
   "outputs": [
    {
     "name": "stdout",
     "output_type": "stream",
     "text": [
      "раз\n",
      "два\n",
      "три\n"
     ]
    }
   ],
   "source": [
    "for i in range(len(words)):\n",
    "    print(words[i])"
   ]
  },
  {
   "cell_type": "code",
   "execution_count": 12,
   "id": "cb8ffa1e",
   "metadata": {},
   "outputs": [
    {
     "data": {
      "text/plain": [
       "[0, 1, 2]"
      ]
     },
     "execution_count": 12,
     "metadata": {},
     "output_type": "execute_result"
    }
   ],
   "source": [
    "list(range(len(words)))"
   ]
  },
  {
   "cell_type": "code",
   "execution_count": 13,
   "id": "a58778ef",
   "metadata": {},
   "outputs": [],
   "source": [
    "a = 0"
   ]
  },
  {
   "cell_type": "code",
   "execution_count": 15,
   "id": "fcb7d47a",
   "metadata": {},
   "outputs": [
    {
     "name": "stdout",
     "output_type": "stream",
     "text": [
      "0\n",
      "1\n",
      "2\n",
      "3\n",
      "4\n"
     ]
    }
   ],
   "source": [
    "a = 0\n",
    "while a < 5:\n",
    "    print(a)\n",
    "    a = a + 1"
   ]
  },
  {
   "cell_type": "code",
   "execution_count": 16,
   "id": "da0131da",
   "metadata": {},
   "outputs": [
    {
     "name": "stdout",
     "output_type": "stream",
     "text": [
      "1\n",
      "2\n",
      "3\n",
      "4\n",
      "5\n"
     ]
    }
   ],
   "source": [
    "a = 0\n",
    "while a < 5:\n",
    "    a = a + 1\n",
    "    print(a)"
   ]
  },
  {
   "cell_type": "markdown",
   "id": "68f24e25",
   "metadata": {},
   "source": [
    "# Функции"
   ]
  },
  {
   "cell_type": "code",
   "execution_count": 17,
   "id": "2782e4a8",
   "metadata": {},
   "outputs": [],
   "source": [
    "def sum_of_two_numbers(number1, number2):\n",
    "    output = number1 + number2"
   ]
  },
  {
   "cell_type": "code",
   "execution_count": 21,
   "id": "2d3e11b8",
   "metadata": {},
   "outputs": [
    {
     "name": "stdout",
     "output_type": "stream",
     "text": [
      "15\n"
     ]
    }
   ],
   "source": [
    "def sum_of_two_numbers(number1, number2):\n",
    "    output = number1 + number2\n",
    "    return output\n",
    "\n",
    "\n",
    "func_result = sum_of_two_numbers(5, 10)\n",
    "print(func_result)"
   ]
  },
  {
   "cell_type": "markdown",
   "id": "4da138ea",
   "metadata": {},
   "source": [
    "# Классы"
   ]
  },
  {
   "cell_type": "code",
   "execution_count": 22,
   "id": "92bcfc1e",
   "metadata": {},
   "outputs": [
    {
     "name": "stdout",
     "output_type": "stream",
     "text": [
      "Hello, my name is Bob\n",
      "My age is 5\n",
      "Hello, my name is Alice\n",
      "My age is 3\n",
      "Hello, my name is Burenka\n",
      "My age is 10\n"
     ]
    }
   ],
   "source": [
    "class Animal:\n",
    "    def __init__(self, name, age):\n",
    "        self.name = name\n",
    "        self.age = age\n",
    "        \n",
    "    def tell_about_yourself(self):\n",
    "        print(\"Hello, my name is\", self.name)\n",
    "        print(\"My age is\", self.age)\n",
    "        \n",
    "        \n",
    "dog = Animal(name=\"Bob\", age=5)\n",
    "dog.tell_about_yourself()\n",
    "\n",
    "cat = Animal(name=\"Alice\", age=3)\n",
    "cat.tell_about_yourself()\n",
    "\n",
    "cow = Animal(name=\"Burenka\", age=10)\n",
    "cow.tell_about_yourself()"
   ]
  }
 ],
 "metadata": {
  "kernelspec": {
   "display_name": "Python 3 (ipykernel)",
   "language": "python",
   "name": "python3"
  },
  "language_info": {
   "codemirror_mode": {
    "name": "ipython",
    "version": 3
   },
   "file_extension": ".py",
   "mimetype": "text/x-python",
   "name": "python",
   "nbconvert_exporter": "python",
   "pygments_lexer": "ipython3",
   "version": "3.9.13"
  }
 },
 "nbformat": 4,
 "nbformat_minor": 5
}
