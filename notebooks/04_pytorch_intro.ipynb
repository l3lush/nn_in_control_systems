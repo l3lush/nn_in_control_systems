{
 "cells": [
  {
   "cell_type": "markdown",
   "metadata": {
    "id": "apOCg85d9SLV"
   },
   "source": [
    "# Семинар по Pytorch.\n"
   ]
  },
  {
   "cell_type": "code",
   "execution_count": null,
   "metadata": {
    "id": "_gLdrFvh9SLX"
   },
   "outputs": [],
   "source": [
    "import matplotlib.pyplot as plt\n",
    "%matplotlib inline\n",
    "import numpy as np\n",
    "# import cv2\n",
    "import sklearn"
   ]
  },
  {
   "cell_type": "markdown",
   "metadata": {
    "id": "OYzpWFqt9SLY"
   },
   "source": [
    "Установка: https://pytorch.org/get-started/locally/  \n",
    "В этом ноутбуке будут разобраны основные особенности фреймворка Pytorch. Pytorch - это как Numpy, только умеет эффективно автоматически считать градиенты."
   ]
  },
  {
   "cell_type": "code",
   "execution_count": null,
   "metadata": {
    "colab": {
     "base_uri": "https://localhost:8080/"
    },
    "id": "ejEH9lf39SLZ",
    "outputId": "67145a07-4704-44b0-bfb7-c962c75b03e0"
   },
   "outputs": [],
   "source": [
    "import torch\n",
    "print (torch.__version__)"
   ]
  },
  {
   "cell_type": "code",
   "execution_count": null,
   "metadata": {
    "id": "CvX6ONy29SLa"
   },
   "outputs": [],
   "source": [
    "import torchvision\n",
    "from torch import nn\n",
    "import os\n",
    "from torchvision.datasets import MNIST\n",
    "import torchvision.transforms as transforms\n",
    "import tqdm"
   ]
  },
  {
   "cell_type": "code",
   "execution_count": null,
   "metadata": {
    "colab": {
     "base_uri": "https://localhost:8080/"
    },
    "id": "iyXIU9K29SLb",
    "outputId": "5c8cb232-155a-48ec-a759-6d8bdeb7fd90"
   },
   "outputs": [],
   "source": [
    "# проверить, доступна ли у вас cuda. \n",
    "torch.cuda.is_available()"
   ]
  },
  {
   "cell_type": "markdown",
   "metadata": {
    "id": "7eVL0Xh49SLb"
   },
   "source": [
    "# Базовые операции"
   ]
  },
  {
   "cell_type": "code",
   "execution_count": null,
   "metadata": {
    "colab": {
     "base_uri": "https://localhost:8080/"
    },
    "id": "VJh2krfQ9SLb",
    "outputId": "b6f11b04-1d73-42e3-8433-11254067f174",
    "scrolled": true
   },
   "outputs": [],
   "source": [
    "# numpy\n",
    "\n",
    "x = np.arange(25).reshape(5, 5)\n",
    "\n",
    "print(\"X :\\n {}\\n\".format(x))\n",
    "print(\"X.shape : {}\\n \".format(x.shape))\n",
    "print(\"Возвести в квадрат:\\n {}\\n\".format(x * x))\n",
    "print(\"X*X^T  :\\n {}\\n\".format(np.matmul(x, x.T)))\n",
    "print(\"Cреднее по столбцам :\\n {}\\n\".format(np.mean(x, axis=0)))\n",
    "print(\"Сумма по строкам:\\n {}\\n\".format(np.cumsum(x, axis=1)))"
   ]
  },
  {
   "cell_type": "code",
   "execution_count": null,
   "metadata": {
    "colab": {
     "base_uri": "https://localhost:8080/"
    },
    "id": "qRoNIUAm9SLc",
    "outputId": "700f09ba-d36f-43d8-9bb7-592c01222c5c"
   },
   "outputs": [],
   "source": [
    "# torch\n",
    "\n",
    "x = torch.arange(25).reshape(5, 5).float()\n",
    "\n",
    "print(\"X :\\n {}\\n\".format(x))\n",
    "print(\"X.shape : {}\\n \".format(x.shape))\n",
    "print(\"Возвести в квадрат:\\n {}\\n\".format(x * x))\n",
    "print(\"X*X^T  :\\n {}\\n\".format(torch.matmul(x, x.T)))\n",
    "print(\"Cреднее по столбцам :\\n {}\\n\".format(torch.mean(x, axis=0)))\n",
    "print(\"Сумма по строкам:\\n {}\\n\".format(torch.cumsum(x, axis=1)))"
   ]
  },
  {
   "cell_type": "markdown",
   "metadata": {
    "id": "PErs03Qf9SLc"
   },
   "source": [
    "# Pytorch - почти Numpy.\n",
    "Вы можете создавать тензоры, смотреть на их градиенты, не создавая сессии как в tensorflow.\n",
    "Названия методов очень похожи. Если они отличаются - загляните в таблицу: https://github.com/torch/torch7/wiki/Torch-for-Numpy-users\n"
   ]
  },
  {
   "cell_type": "markdown",
   "metadata": {
    "id": "OVAZNles9SLd"
   },
   "source": [
    "# Pytroch сам считает backpropagation для нас с помощью модуля autograd"
   ]
  },
  {
   "cell_type": "code",
   "execution_count": null,
   "metadata": {
    "colab": {
     "base_uri": "https://localhost:8080/"
    },
    "id": "BxomQQ3u9SLd",
    "outputId": "c5eb07db-3143-49ae-f5cf-7bc1c957c161"
   },
   "outputs": [],
   "source": [
    "# создаем тензор\n",
    "preds = torch.zeros(5, requires_grad=True)\n",
    "\n",
    "# вектор предсказаний\n",
    "labels = torch.ones(5, requires_grad=True)\n",
    "\n",
    "# loss: MAE\n",
    "loss = torch.mean(torch.abs(labels - preds))\n",
    "\n",
    "print (loss)\n",
    "\n",
    "# запускаем backprop\n",
    "\n",
    "loss.backward()"
   ]
  },
  {
   "cell_type": "code",
   "execution_count": null,
   "metadata": {
    "colab": {
     "base_uri": "https://localhost:8080/"
    },
    "id": "aSu1ITF99SLe",
    "outputId": "f81d2c14-af85-4dab-815f-09ec4ae1c12f"
   },
   "outputs": [],
   "source": [
    "# градиенты доступны в поле .grad:\n",
    "preds.grad"
   ]
  },
  {
   "cell_type": "code",
   "execution_count": null,
   "metadata": {
    "colab": {
     "base_uri": "https://localhost:8080/"
    },
    "id": "JlpI3Th29SLe",
    "outputId": "e7c3d66e-9233-41d7-f227-37589db53212"
   },
   "outputs": [],
   "source": [
    "# градиенты можно занулить\n",
    "preds.grad.zero_()"
   ]
  },
  {
   "cell_type": "code",
   "execution_count": null,
   "metadata": {
    "colab": {
     "base_uri": "https://localhost:8080/"
    },
    "id": "zBjOk_jH9SLe",
    "outputId": "07571207-ce54-4452-adb3-705c2f55009f"
   },
   "outputs": [],
   "source": [
    "# теперь градиенты снова 0\n",
    "preds.grad"
   ]
  },
  {
   "cell_type": "markdown",
   "metadata": {
    "id": "rzwlsjQC9SLf"
   },
   "source": [
    "###  Градиенты накапливаются при каждом вызове backward()"
   ]
  },
  {
   "cell_type": "code",
   "execution_count": null,
   "metadata": {
    "colab": {
     "base_uri": "https://localhost:8080/"
    },
    "id": "kgydtalG9SLf",
    "outputId": "886288c8-bcd2-4a78-ad5b-f795b8485693"
   },
   "outputs": [],
   "source": [
    "# создаем тензор\n",
    "preds = torch.zeros(5, requires_grad=True)\n",
    "\n",
    "# вектор предсказаний\n",
    "labels = torch.ones(5, requires_grad=True)\n",
    "\n",
    "# loss: MAE\n",
    "loss = torch.mean(torch.abs(labels - preds))\n",
    "\n",
    "print (loss)\n",
    "\n",
    "# запускаем backprop\n",
    "for i in range(5):\n",
    "    loss.backward(retain_graph=True)\n",
    "    print (i, preds.grad)"
   ]
  },
  {
   "cell_type": "markdown",
   "metadata": {
    "id": "xt-q2Fk79SLg"
   },
   "source": [
    "# Пишем свою логистическую регрессию на пайторче"
   ]
  },
  {
   "cell_type": "code",
   "execution_count": null,
   "metadata": {
    "id": "J3yFTWek9SLg"
   },
   "outputs": [],
   "source": [
    "from sklearn.datasets import make_blobs\n",
    "import sklearn\n",
    "X, y = make_blobs(n_samples=200, centers=((10, 5), (5, -5)), n_features=2,\n",
    "                   random_state=0, cluster_std=3)"
   ]
  },
  {
   "cell_type": "code",
   "execution_count": null,
   "metadata": {
    "colab": {
     "base_uri": "https://localhost:8080/",
     "height": 282
    },
    "id": "FDd7e9339SLg",
    "outputId": "1b919df0-f188-447c-e69e-f6a468ce9cb6"
   },
   "outputs": [],
   "source": [
    "plt.scatter(X[:, 0], X[:, 1], marker='o', c=y,\n",
    "            s=25, edgecolor='k')"
   ]
  },
  {
   "cell_type": "markdown",
   "metadata": {
    "id": "5NU6rOBC9SLh"
   },
   "source": [
    "# Напоминание. Как это было в Sklearn:"
   ]
  },
  {
   "cell_type": "code",
   "execution_count": null,
   "metadata": {
    "id": "7wWhBHPH9SLh"
   },
   "outputs": [],
   "source": [
    "from sklearn.linear_model import LogisticRegression"
   ]
  },
  {
   "cell_type": "code",
   "execution_count": null,
   "metadata": {
    "id": "2HmP5WB_9SLi"
   },
   "outputs": [],
   "source": [
    "model = LogisticRegression()"
   ]
  },
  {
   "cell_type": "code",
   "execution_count": null,
   "metadata": {
    "colab": {
     "base_uri": "https://localhost:8080/"
    },
    "id": "WBcgUibg9SLi",
    "outputId": "74606d4b-5b33-4025-f275-fd4690b22c71",
    "scrolled": true
   },
   "outputs": [],
   "source": [
    "model.fit(X, y)"
   ]
  },
  {
   "cell_type": "code",
   "execution_count": null,
   "metadata": {
    "colab": {
     "base_uri": "https://localhost:8080/"
    },
    "id": "lk966UsF9SLj",
    "outputId": "da585bd2-a748-4004-c80a-290471761045"
   },
   "outputs": [],
   "source": [
    "model.coef_"
   ]
  },
  {
   "cell_type": "code",
   "execution_count": null,
   "metadata": {
    "colab": {
     "base_uri": "https://localhost:8080/"
    },
    "id": "tInwNtdw9SLj",
    "outputId": "7547ac62-d286-4045-ec6b-158d31f5b062"
   },
   "outputs": [],
   "source": [
    "model.intercept_"
   ]
  },
  {
   "cell_type": "markdown",
   "metadata": {
    "id": "tyw6b4ZG9SLk"
   },
   "source": [
    "## Визуализируем разделяющую плоскость"
   ]
  },
  {
   "cell_type": "code",
   "execution_count": null,
   "metadata": {
    "colab": {
     "base_uri": "https://localhost:8080/",
     "height": 592
    },
    "id": "zeQ1czKR9SLk",
    "outputId": "404ed742-7fc9-4bfe-c554-c5cd39d579a2"
   },
   "outputs": [],
   "source": [
    "w_1 = model.coef_[0][0]\n",
    "w_2 = model.coef_[0][1]\n",
    "w_0 = model.intercept_[0]\n",
    "\n",
    "plt.figure(figsize=(20,10))\n",
    "plt.scatter(X[:, 0], X[:, 1], marker='o', c=y,\n",
    "            s=25, edgecolor='k')\n",
    "plt.legend(['y = -1', 'y = 1'])\n",
    "x_arr = np.linspace(-3, 18, 1000)\n",
    "\n",
    "# y_arr = # ваш код здесь\n",
    "y_arr = -(w_0 + w_1 * x_arr) / w_2\n",
    "plt.plot(x_arr, y_arr)\n",
    "plt.show()"
   ]
  },
  {
   "cell_type": "markdown",
   "metadata": {
    "id": "uqe74hxI9SLl"
   },
   "source": [
    "# Pytorch"
   ]
  },
  {
   "cell_type": "code",
   "execution_count": null,
   "metadata": {
    "id": "zeYuViOh9SLl"
   },
   "outputs": [],
   "source": [
    "from sklearn.datasets import make_blobs\n",
    "import sklearn\n",
    "X, y = make_blobs(n_samples=200, centers=2, n_features=2,\n",
    "                   random_state=0, cluster_std=0.6)"
   ]
  },
  {
   "cell_type": "code",
   "execution_count": null,
   "metadata": {
    "colab": {
     "base_uri": "https://localhost:8080/"
    },
    "id": "jrbIbcUf9SLl",
    "outputId": "54d5f4cb-3c66-4531-ff11-6406df90fa81"
   },
   "outputs": [],
   "source": [
    "type(X), type(y)"
   ]
  },
  {
   "cell_type": "code",
   "execution_count": null,
   "metadata": {
    "id": "NkSB7ldb9SLm"
   },
   "outputs": [],
   "source": [
    "X = torch.tensor(X)\n",
    "y = torch.tensor(y)"
   ]
  },
  {
   "cell_type": "code",
   "execution_count": null,
   "metadata": {
    "colab": {
     "base_uri": "https://localhost:8080/"
    },
    "id": "R5pyIO1k9SLm",
    "outputId": "00f6053e-2099-495c-e226-867c3650d8bb"
   },
   "outputs": [],
   "source": [
    "type(X), type(y)"
   ]
  },
  {
   "cell_type": "code",
   "execution_count": null,
   "metadata": {
    "colab": {
     "base_uri": "https://localhost:8080/"
    },
    "id": "JdoThC549SLm",
    "outputId": "146701ee-b542-4bce-eb8c-c6a7f8c6a935"
   },
   "outputs": [],
   "source": [
    "print (X.shape, y.shape)"
   ]
  },
  {
   "cell_type": "code",
   "execution_count": null,
   "metadata": {
    "id": "3mtHl1F19SLn"
   },
   "outputs": [],
   "source": [
    "w = torch.zeros(2)\n",
    "b = torch.zeros(1)"
   ]
  },
  {
   "cell_type": "code",
   "execution_count": null,
   "metadata": {
    "colab": {
     "base_uri": "https://localhost:8080/"
    },
    "id": "ZpHCj9ZH9SLn",
    "outputId": "91de5e12-c81d-461d-c9c6-6017804083a7"
   },
   "outputs": [],
   "source": [
    "X[0]"
   ]
  },
  {
   "cell_type": "code",
   "execution_count": null,
   "metadata": {
    "id": "lxHumVtu9SLn"
   },
   "outputs": [],
   "source": [
    "y_pred = w * X + b"
   ]
  },
  {
   "cell_type": "code",
   "execution_count": null,
   "metadata": {
    "id": "ccAz3jQO9SLo"
   },
   "outputs": [],
   "source": [
    "from sklearn.datasets import make_blobs\n",
    "import sklearn\n",
    "X, y = make_blobs(n_samples=200, centers=2, n_features=2,\n",
    "                   random_state=0, cluster_std=3)"
   ]
  },
  {
   "cell_type": "code",
   "execution_count": null,
   "metadata": {
    "colab": {
     "base_uri": "https://localhost:8080/"
    },
    "id": "T6dvOti89SLo",
    "outputId": "bab39e85-0757-4d7e-bb49-4df45c0e0838"
   },
   "outputs": [],
   "source": [
    "len(X)"
   ]
  },
  {
   "cell_type": "code",
   "execution_count": null,
   "metadata": {
    "colab": {
     "base_uri": "https://localhost:8080/"
    },
    "id": "TSwk0ae39SLo",
    "outputId": "f66f7609-dc2b-41da-bf6a-9d0ef89e24f5"
   },
   "outputs": [],
   "source": [
    "len(y)"
   ]
  },
  {
   "cell_type": "markdown",
   "metadata": {
    "id": "0DW4OIky9SLo"
   },
   "source": [
    "# Напишем свою логистическую регрессию на пайторче"
   ]
  },
  {
   "cell_type": "code",
   "execution_count": null,
   "metadata": {
    "id": "RcTuxVya9SLo"
   },
   "outputs": [],
   "source": [
    "X, y = make_blobs(n_samples=200, centers=((10, 5), (5, -5)), n_features=2,\n",
    "                   random_state=0, cluster_std=3)"
   ]
  },
  {
   "cell_type": "code",
   "execution_count": null,
   "metadata": {
    "colab": {
     "base_uri": "https://localhost:8080/"
    },
    "id": "l9nsTljs9SLp",
    "outputId": "d0708940-91d1-4b69-da77-6de9cf08320b"
   },
   "outputs": [],
   "source": [
    "type(X), type(y)"
   ]
  },
  {
   "cell_type": "code",
   "execution_count": null,
   "metadata": {
    "id": "dRCnYCIZ9SLp"
   },
   "outputs": [],
   "source": [
    "# cоздайте тензор из X и y\n",
    "X = torch.tensor(X)\n",
    "y = torch.tensor(y)"
   ]
  },
  {
   "cell_type": "code",
   "execution_count": null,
   "metadata": {
    "id": "XLWyyMy29SLp"
   },
   "outputs": [],
   "source": [
    "assert type(X) == torch.Tensor\n",
    "assert type(y) == torch.Tensor"
   ]
  },
  {
   "cell_type": "code",
   "execution_count": null,
   "metadata": {
    "id": "d5sC_9z79SLp"
   },
   "outputs": [],
   "source": [
    "w = torch.zeros(2, requires_grad=True, dtype=torch.double)\n",
    "b = torch.zeros(1, requires_grad=True, dtype=torch.double)"
   ]
  },
  {
   "cell_type": "code",
   "execution_count": null,
   "metadata": {
    "id": "oXS_iaNV9SLq"
   },
   "outputs": [],
   "source": [
    "assert w.requires_grad\n",
    "assert len(w.shape) == 1\n",
    "assert w.shape[0] == X.shape[1]\n",
    "assert w.dtype == X.dtype\n",
    "assert b.requires_grad\n",
    "assert len(b.shape) == 1\n",
    "assert b.dtype == X.dtype"
   ]
  },
  {
   "cell_type": "code",
   "execution_count": null,
   "metadata": {
    "id": "mHrha4x49SLq"
   },
   "outputs": [],
   "source": [
    "def binary_cross_entropy(y, y_predicted):\n",
    "    \"\"\"\n",
    "    y: binary tensor, shape: N, example: [0, 1, 0, 1, 1]\n",
    "    y_pred: tensor with values from 0 to 1. shape: N. example: [0.2, 0, 1, 0.75, 0.999]\n",
    "    \n",
    "    output: tensor, shape: N\n",
    "    \n",
    "    \"\"\"\n",
    "    return -(y * (torch.log(y_predicted)) + (1 - y) * torch.log(1 - y_predicted))"
   ]
  },
  {
   "cell_type": "code",
   "execution_count": null,
   "metadata": {
    "id": "Bc7UtPD-9SLq"
   },
   "outputs": [],
   "source": [
    "y_test = torch.tensor([1, 0, 1, 1])\n",
    "y_pred = torch.tensor([0.7, 0.3, 0.5, 0.9])\n",
    "bce_correct = torch.tensor([0.3567, 0.3567, 0.6931, 0.1054])\n",
    "bce_predicted = binary_cross_entropy(y_test, y_pred)\n",
    "assert bce_predicted.shape == y_test.shape\n",
    "assert torch.allclose(bce_predicted, bce_correct, rtol=1e-03)"
   ]
  },
  {
   "cell_type": "code",
   "execution_count": null,
   "metadata": {
    "colab": {
     "base_uri": "https://localhost:8080/",
     "height": 282
    },
    "id": "27EK6JmN9SLq",
    "outputId": "faa084ab-11aa-424c-bcc3-86fea3c02391",
    "scrolled": false
   },
   "outputs": [],
   "source": [
    "from IPython.display import clear_output\n",
    "\n",
    "for i in range(300):\n",
    "    y_pred = torch.matmul(X, w) + b\n",
    "    y_pred = torch.sigmoid(y_pred)\n",
    "    loss = binary_cross_entropy(y, y_pred)\n",
    "    loss = torch.sum(loss)\n",
    "    \n",
    "    loss.backward()\n",
    "    \n",
    "    w.data -= 0.00001 * w.grad.data\n",
    "    b.data -= 0.00001 * b.grad.data\n",
    "\n",
    "    # zero gradients\n",
    "    w.grad.data.zero_()\n",
    "    b.grad.data.zero_()\n",
    "    \n",
    "    if (i+1)%5==0:\n",
    "    #if True:\n",
    "        clear_output(True)\n",
    "        plt.scatter(X[:, 0], X[:, 1], marker='o', c=y,\n",
    "            s=25, edgecolor='k')\n",
    "\n",
    "        \n",
    "        w_1 = w.data[0]\n",
    "        w_2 = w.data[1]\n",
    "        w_0 = b.data[0]\n",
    "        \n",
    "        \n",
    "        x_arr = torch.linspace(-10, 20, 1000)\n",
    "        plt.plot(x_arr, -(w_0 + w_1 * x_arr) / w_2)\n",
    "        plt.show()\n",
    "        \n",
    "        print (\"Iteration: {}, Loss: {}\".format(i, loss))\n"
   ]
  },
  {
   "cell_type": "markdown",
   "metadata": {
    "id": "dOACWrA69SLr"
   },
   "source": [
    "# Теперь все за нас делает пайторч"
   ]
  },
  {
   "cell_type": "code",
   "execution_count": null,
   "metadata": {
    "id": "H9DxoB8J9SLr"
   },
   "outputs": [],
   "source": [
    "from sklearn.datasets import make_blobs\n",
    "import sklearn\n",
    "X, y = make_blobs(n_samples=200, centers=2, n_features=2,\n",
    "                   random_state=0, cluster_std=0.6)"
   ]
  },
  {
   "cell_type": "code",
   "execution_count": null,
   "metadata": {
    "id": "GFipi35D9SLr"
   },
   "outputs": [],
   "source": [
    "X, y = make_blobs(n_samples=200, centers=((10, 5), (5, -5)), n_features=2,\n",
    "                   random_state=0, cluster_std=3)"
   ]
  },
  {
   "cell_type": "code",
   "execution_count": null,
   "metadata": {
    "id": "Wn8pm63j9SLr"
   },
   "outputs": [],
   "source": [
    "X = torch.tensor(X)\n",
    "y = torch.tensor(y)"
   ]
  },
  {
   "cell_type": "markdown",
   "metadata": {
    "id": "BcPK0X9A9SLs"
   },
   "source": [
    "# Инициализируем модель"
   ]
  },
  {
   "cell_type": "code",
   "execution_count": null,
   "metadata": {
    "colab": {
     "base_uri": "https://localhost:8080/"
    },
    "id": "isKKf6Ph9SLs",
    "outputId": "171f5352-7f9d-4b8b-e713-9e22bed4aae4"
   },
   "outputs": [],
   "source": [
    "model = torch.nn.Linear(2, 1)\n",
    "criterion = torch.nn.BCELoss()\n",
    "\n",
    "optim = torch.optim.SGD(model.parameters(), lr=0.1)\n",
    "\n",
    "model.train()"
   ]
  },
  {
   "cell_type": "code",
   "execution_count": null,
   "metadata": {
    "colab": {
     "base_uri": "https://localhost:8080/"
    },
    "id": "G8ZZVN6p9SLs",
    "outputId": "f726ed1e-75ab-400f-a272-0b97f064c1eb"
   },
   "outputs": [],
   "source": [
    "model"
   ]
  },
  {
   "cell_type": "code",
   "execution_count": null,
   "metadata": {
    "colab": {
     "base_uri": "https://localhost:8080/"
    },
    "id": "0EJf9Aa89SLs",
    "outputId": "cb41bf52-a525-4828-a41c-72d41924471a"
   },
   "outputs": [],
   "source": [
    "model.weight"
   ]
  },
  {
   "cell_type": "code",
   "execution_count": null,
   "metadata": {
    "colab": {
     "base_uri": "https://localhost:8080/"
    },
    "id": "kZfdsGbH9SLt",
    "outputId": "2732e8ba-8903-480a-dabe-9d3686bf9bae"
   },
   "outputs": [],
   "source": [
    "model.bias"
   ]
  },
  {
   "cell_type": "code",
   "execution_count": null,
   "metadata": {
    "colab": {
     "base_uri": "https://localhost:8080/"
    },
    "id": "-8fF8Cu89SLt",
    "outputId": "ad5eb620-6ada-46e4-edea-efe10042f355"
   },
   "outputs": [],
   "source": [
    "model.weight.data.dtype"
   ]
  },
  {
   "cell_type": "code",
   "execution_count": null,
   "metadata": {
    "colab": {
     "base_uri": "https://localhost:8080/",
     "height": 282
    },
    "id": "l0giOSki9SLt",
    "outputId": "56752055-57ab-4742-bca2-62b16ee88f22"
   },
   "outputs": [],
   "source": [
    "from IPython.display import clear_output\n",
    "\n",
    "\n",
    "for i in range(300):\n",
    "    # считаем предсказание\n",
    "    y_pred = torch.sigmoid(model(X.float()))\n",
    "    \n",
    "    # считаем лосс\n",
    "    loss = criterion(y_pred.flatten(), y.float())\n",
    "    \n",
    "    # прокидываем градиенты\n",
    "    loss.backward()\n",
    "    \n",
    "    # делаем шаг оптимизатором\n",
    "    optim.step()     \n",
    "\n",
    "    # зануляем градиенты\n",
    "    optim.zero_grad() \n",
    "    \n",
    "    if (i+1)%5==0:\n",
    "        clear_output(True)\n",
    "        plt.scatter(X[:, 0], X[:, 1], marker='o', c=y,\n",
    "            s=25, edgecolor='k')\n",
    "\n",
    "        w_1 = model.weight.data[0][0]\n",
    "        w_2 = model.weight.data[0][1]\n",
    "        w_0 = model.bias.data[0]\n",
    "        \n",
    "        x_arr = torch.linspace(-10, 20, 1000)\n",
    "        plt.plot(x_arr, -(w_0 + w_1 * x_arr) / w_2)\n",
    "        plt.show()\n",
    "        \n",
    "        print (\"Iteration: {}, Loss: {}\".format(i, loss))"
   ]
  },
  {
   "cell_type": "markdown",
   "metadata": {
    "id": "PvOBE30i9SLu"
   },
   "source": [
    "# Окей, пусть теперь проблема нелинейная"
   ]
  },
  {
   "cell_type": "code",
   "execution_count": null,
   "metadata": {
    "id": "xNdKWnab9SLu"
   },
   "outputs": [],
   "source": [
    "from sklearn.datasets import make_moons"
   ]
  },
  {
   "cell_type": "code",
   "execution_count": null,
   "metadata": {
    "id": "ZMiLvnHe9SLu"
   },
   "outputs": [],
   "source": [
    "X, y = make_moons(n_samples=200, noise=.1, random_state=17)"
   ]
  },
  {
   "cell_type": "code",
   "execution_count": null,
   "metadata": {
    "colab": {
     "base_uri": "https://localhost:8080/",
     "height": 266
    },
    "id": "iKV3vT9q9SLu",
    "outputId": "2cbe3751-a072-4293-9753-f4e70d1ea88c"
   },
   "outputs": [],
   "source": [
    "plt.scatter(X[:, 0], X[:, 1], marker='o', c=y,\n",
    "            s=25, edgecolor='k')\n",
    "\n",
    "X = torch.tensor(X)\n",
    "y = torch.tensor(y)"
   ]
  },
  {
   "cell_type": "code",
   "execution_count": null,
   "metadata": {
    "colab": {
     "base_uri": "https://localhost:8080/"
    },
    "id": "A-suQlRt9SLu",
    "outputId": "af3e8cc1-747e-4195-87a6-a4fe7d01689a"
   },
   "outputs": [],
   "source": [
    "model = torch.nn.Linear(2, 1)\n",
    "criterion = torch.nn.BCELoss()\n",
    "\n",
    "optim = torch.optim.SGD(model.parameters(), lr=0.01, momentum=0.9)\n",
    "\n",
    "model.train()"
   ]
  },
  {
   "cell_type": "code",
   "execution_count": null,
   "metadata": {
    "colab": {
     "base_uri": "https://localhost:8080/",
     "height": 283
    },
    "id": "gF_WdOl29SLv",
    "outputId": "9b84241b-eb28-4ff2-ddef-6d883613de7e"
   },
   "outputs": [],
   "source": [
    "from IPython.display import clear_output\n",
    "\n",
    "\n",
    "for i in range(5000):\n",
    "\n",
    "    y_pred = torch.sigmoid(model(X.float()))\n",
    "\n",
    "    loss = criterion(y_pred.flatten(), y.float())\n",
    "    \n",
    "    loss.backward()\n",
    "    \n",
    "    optim.step()           \n",
    "    optim.zero_grad() \n",
    "    \n",
    "    if (i+1)%500==0:\n",
    "        clear_output(True)\n",
    "        plt.scatter(X[:, 0], X[:, 1], marker='o', c=y,\n",
    "            s=25, edgecolor='k')\n",
    "\n",
    "\n",
    "        w_1 = model.weight.data[0][0]\n",
    "        w_2 = model.weight.data[0][1] \n",
    "        w_0 = model.bias.data[0]\n",
    "        \n",
    "        \n",
    "        x_arr = torch.linspace(-2, 2, 1000)\n",
    "        plt.plot(x_arr, -(w_0 + w_1 * x_arr) / w_2)\n",
    "        plt.show()\n",
    "        \n",
    "        print (\"Iteration: {}, Loss: {}\".format(i, loss))"
   ]
  },
  {
   "cell_type": "markdown",
   "metadata": {
    "id": "WevXy3M99SLv"
   },
   "source": [
    "# Визуализируем разделяющую плоскость"
   ]
  },
  {
   "cell_type": "code",
   "execution_count": null,
   "metadata": {
    "id": "hnCBUkTa9SLv"
   },
   "outputs": [],
   "source": [
    "h = .02  # step size in the mesh\n",
    "cm = plt.cm.RdBu\n",
    "x_min, x_max = X[:, 0].min() - .5, X[:, 0].max() + .5\n",
    "y_min, y_max = X[:, 1].min() - .5, X[:, 1].max() + .5\n",
    "xx, yy = np.meshgrid(np.arange(x_min, x_max, h),\n",
    "                     np.arange(y_min, y_max, h))\n",
    "\n",
    "input_tensor = torch.from_numpy(np.c_[xx.ravel(), yy.ravel()]).float()\n",
    "model.eval()\n",
    "Z = torch.sigmoid(model(input_tensor))\n",
    "Z = Z.reshape(xx.shape)"
   ]
  },
  {
   "cell_type": "code",
   "execution_count": null,
   "metadata": {
    "colab": {
     "base_uri": "https://localhost:8080/",
     "height": 265
    },
    "id": "nyNauPQp9SLw",
    "outputId": "ca257bc2-d4b6-4e79-ee7b-948a2d314d42"
   },
   "outputs": [],
   "source": [
    "plt.scatter(X[:, 0], X[:, 1], marker='o', c=y,\n",
    "            s=25, edgecolor='k')\n",
    "\n",
    "plt.contourf(xx, yy, Z.detach().numpy(), cmap=cm, alpha=.8)\n",
    "\n",
    "plt.show()"
   ]
  },
  {
   "cell_type": "markdown",
   "metadata": {
    "id": "UddJchKW9SLw"
   },
   "source": [
    "# Делаем модель сложнее"
   ]
  },
  {
   "cell_type": "code",
   "execution_count": null,
   "metadata": {
    "colab": {
     "base_uri": "https://localhost:8080/",
     "height": 355
    },
    "id": "x69Nn_YN9SLw",
    "outputId": "2ca4de0c-a95f-4786-f8f1-e529f403fd81"
   },
   "outputs": [],
   "source": [
    "plt.scatter(X[:, 0], X[:, 1], marker='o', c=y,\n",
    "            s=25, edgecolor='k')\n",
    "\n",
    "X = torch.tensor(X)\n",
    "y = torch.tensor(y)"
   ]
  },
  {
   "cell_type": "code",
   "execution_count": null,
   "metadata": {
    "id": "dUhEBnzI9SLx"
   },
   "outputs": [],
   "source": [
    "from torch import nn"
   ]
  },
  {
   "cell_type": "markdown",
   "metadata": {
    "id": "aFhGOXiu9SLx"
   },
   "source": [
    "# Cоберите двуслойную модель"
   ]
  },
  {
   "cell_type": "code",
   "execution_count": null,
   "metadata": {
    "id": "wfPiEfSU9SLx"
   },
   "outputs": [],
   "source": [
    "model = nn.Sequential()\n",
    "model.add_module('first', nn.Linear(2, 2))\n",
    "model.add_module('first_activation', nn.Sigmoid())\n",
    "model.add_module('second', nn.Linear(2, 1))"
   ]
  },
  {
   "cell_type": "code",
   "execution_count": null,
   "metadata": {
    "colab": {
     "base_uri": "https://localhost:8080/"
    },
    "id": "owO-1I-J9SLy",
    "outputId": "4c346e55-b4f0-4c45-aee8-72827c80c6b2"
   },
   "outputs": [],
   "source": [
    "criterion = torch.nn.BCELoss()\n",
    "\n",
    "optim = torch.optim.SGD(model.parameters(), lr=2.)\n",
    "\n",
    "model.train()"
   ]
  },
  {
   "cell_type": "code",
   "execution_count": null,
   "metadata": {
    "colab": {
     "base_uri": "https://localhost:8080/",
     "height": 282
    },
    "id": "RquUN5YP9SLy",
    "outputId": "ab12b8c6-00c8-4a99-ead9-ffef5eb71d88"
   },
   "outputs": [],
   "source": [
    "from IPython.display import clear_output\n",
    "\n",
    "\n",
    "h = .02  # step size in the mesh\n",
    "cm = plt.cm.RdBu\n",
    "x_min, x_max = X[:, 0].min() - .5, X[:, 0].max() + .5\n",
    "y_min, y_max = X[:, 1].min() - .5, X[:, 1].max() + .5\n",
    "xx, yy = np.meshgrid(np.arange(x_min, x_max, h),\n",
    "                     np.arange(y_min, y_max, h))\n",
    "\n",
    "\n",
    "\n",
    "model.train()\n",
    "for i in range(30000):\n",
    "    \n",
    "    y_pred = torch.sigmoid(model(X.float()))\n",
    "        \n",
    "    loss = criterion(y_pred.flatten(), y.float())\n",
    "    \n",
    "    loss.backward()\n",
    "        \n",
    "    optim.step()           \n",
    "    optim.zero_grad() \n",
    "    if (i+1)%500==0:\n",
    "        clear_output(True)\n",
    "        input_tensor = torch.from_numpy(np.c_[xx.ravel(), yy.ravel()]).float()\n",
    "        Z = torch.sigmoid(model(input_tensor))\n",
    "        Z = Z.reshape(xx.shape)\n",
    "\n",
    "        \n",
    "        plt.scatter(X[:, 0], X[:, 1], marker='o', c=y,\n",
    "            s=25, edgecolor='k')\n",
    "\n",
    "        plt.contourf(xx, yy, Z.detach().numpy(), cmap=cm, alpha=.8)\n",
    "\n",
    "        plt.show()\n",
    "        \n",
    "        \n",
    "        print (\"Iteration: {}, Loss: {}\".format(i, loss))"
   ]
  },
  {
   "cell_type": "markdown",
   "metadata": {
    "id": "qN9h6lYI9SLy"
   },
   "source": [
    "# Усложним модель (увеличим количество слоев)"
   ]
  },
  {
   "cell_type": "code",
   "execution_count": null,
   "metadata": {
    "id": "79UD5nPe9SLy"
   },
   "outputs": [],
   "source": [
    "model = nn.Sequential()\n",
    "model.add_module('first', nn.Linear(2, 2))\n",
    "model.add_module('first_activation', nn.Sigmoid())\n",
    "model.add_module('second', nn.Linear(2, 2))\n",
    "model.add_module('second_activation', nn.Sigmoid())\n",
    "model.add_module('third', nn.Linear(2, 1))"
   ]
  },
  {
   "cell_type": "code",
   "execution_count": null,
   "metadata": {
    "colab": {
     "base_uri": "https://localhost:8080/"
    },
    "id": "IAxchrKd9SLz",
    "outputId": "ca800af1-ecb9-407b-d091-a700f66b5c1e"
   },
   "outputs": [],
   "source": [
    "criterion = torch.nn.BCELoss()\n",
    "\n",
    "optim = torch.optim.SGD(model.parameters(), lr=2., momentum=0.9)\n",
    "\n",
    "model.train()"
   ]
  },
  {
   "cell_type": "code",
   "execution_count": null,
   "metadata": {
    "colab": {
     "base_uri": "https://localhost:8080/",
     "height": 282
    },
    "id": "K7n0LIa09SLz",
    "outputId": "ca69ae43-9dd6-4ee3-cd12-ff7bdb514e12",
    "scrolled": false
   },
   "outputs": [],
   "source": [
    "from IPython.display import clear_output\n",
    "\n",
    "\n",
    "h = .02  # step size in the mesh\n",
    "cm = plt.cm.RdBu\n",
    "x_min, x_max = X[:, 0].min() - .5, X[:, 0].max() + .5\n",
    "y_min, y_max = X[:, 1].min() - .5, X[:, 1].max() + .5\n",
    "xx, yy = np.meshgrid(np.arange(x_min, x_max, h),\n",
    "                     np.arange(y_min, y_max, h))\n",
    "\n",
    "\n",
    "\n",
    "model.train()\n",
    "for i in range(10000):\n",
    "    \n",
    "    y_pred = torch.sigmoid(model(X.float()))\n",
    "    \n",
    "    loss = criterion(y_pred.flatten(), y.float())\n",
    "    \n",
    "    loss.backward()\n",
    "        \n",
    "    optim.step()           \n",
    "    optim.zero_grad() \n",
    "    if (i+1)%500==0:\n",
    "        clear_output(True)\n",
    "        input_tensor = torch.from_numpy(np.c_[xx.ravel(), yy.ravel()]).float()\n",
    "        Z = torch.sigmoid(model(input_tensor))\n",
    "        Z = Z.reshape(xx.shape)\n",
    "\n",
    "        \n",
    "        plt.scatter(X[:, 0], X[:, 1], marker='o', c=y,\n",
    "            s=25, edgecolor='k')\n",
    "\n",
    "        plt.contourf(xx, yy, Z.detach().numpy(), cmap=cm, alpha=.8)\n",
    "\n",
    "        plt.show()\n",
    "        \n",
    "        \n",
    "        print (\"Iteration: {}, Loss: {}\".format(i, loss))"
   ]
  },
  {
   "cell_type": "markdown",
   "metadata": {
    "id": "OWZ6cFnP9SLz"
   },
   "source": [
    "# Еще усложним модель (увеличим размерность скрытых слоев)"
   ]
  },
  {
   "cell_type": "code",
   "execution_count": null,
   "metadata": {
    "id": "weq1btVh9SL0"
   },
   "outputs": [],
   "source": [
    "model = nn.Sequential()\n",
    "model.add_module('first', nn.Linear(2, 5))\n",
    "model.add_module('first_activation', nn.Sigmoid())\n",
    "model.add_module('second', nn.Linear(5, 5))\n",
    "model.add_module('second_activation', nn.Sigmoid())\n",
    "model.add_module('third', nn.Linear(5, 1))\n",
    "model.add_module('third_activation', nn.Sigmoid())"
   ]
  },
  {
   "cell_type": "code",
   "execution_count": null,
   "metadata": {
    "colab": {
     "base_uri": "https://localhost:8080/"
    },
    "id": "R9E6zP6p9SL0",
    "outputId": "0e5cffdc-3b66-4ab7-9819-6a69654ac445"
   },
   "outputs": [],
   "source": [
    "criterion = torch.nn.BCELoss()\n",
    "\n",
    "optim = torch.optim.SGD(model.parameters(), lr=2, momentum=0.9)\n",
    "\n",
    "model.train()\n",
    "\n",
    "# model.to('cuda:2')"
   ]
  },
  {
   "cell_type": "code",
   "execution_count": null,
   "metadata": {
    "colab": {
     "base_uri": "https://localhost:8080/",
     "height": 282
    },
    "id": "XUWTN8rr9SL0",
    "outputId": "7e5358e6-247b-4697-98f0-100384573ebc"
   },
   "outputs": [],
   "source": [
    "from IPython.display import clear_output\n",
    "\n",
    "\n",
    "h = .02  # step size in the mesh\n",
    "cm = plt.cm.RdBu\n",
    "x_min, x_max = X[:, 0].min() - .5, X[:, 0].max() + .5\n",
    "y_min, y_max = X[:, 1].min() - .5, X[:, 1].max() + .5\n",
    "xx, yy = np.meshgrid(np.arange(x_min, x_max, h),\n",
    "                     np.arange(y_min, y_max, h))\n",
    "\n",
    "\n",
    "\n",
    "model.train()\n",
    "for i in range(1500):\n",
    "\n",
    "    y_pred = model(X.float())\n",
    "        \n",
    "    loss = criterion(y_pred.flatten(), y.float())\n",
    "    \n",
    "    loss.backward()\n",
    "    \n",
    "    optim.step()           \n",
    "    optim.zero_grad() \n",
    "    if (i+1)%50==0:\n",
    "        clear_output(True)\n",
    "        input_tensor = torch.from_numpy(np.c_[xx.ravel(), yy.ravel()]).float()\n",
    "        Z = torch.sigmoid(model(input_tensor))\n",
    "        Z = Z.reshape(xx.shape)\n",
    "\n",
    "        \n",
    "        plt.scatter(X[:, 0], X[:, 1], marker='o', c=y,\n",
    "            s=25, edgecolor='k')\n",
    "\n",
    "        plt.contourf(xx, yy, Z.detach().numpy(), cmap=cm, alpha=.8)\n",
    "\n",
    "        plt.show()\n",
    "        \n",
    "        \n",
    "        print (\"Iteration: {}, Loss: {}\".format(i, loss))"
   ]
  },
  {
   "cell_type": "markdown",
   "metadata": {
    "id": "QvByiISS9SL0"
   },
   "source": [
    "# Сделаем > 2 классов"
   ]
  },
  {
   "cell_type": "code",
   "execution_count": null,
   "metadata": {
    "id": "HKn510MK9SL1"
   },
   "outputs": [],
   "source": [
    "from sklearn.datasets import make_circles"
   ]
  },
  {
   "cell_type": "code",
   "execution_count": null,
   "metadata": {
    "id": "swhmG6--9SL1"
   },
   "outputs": [],
   "source": [
    "# blobs with varied variances\n",
    "X, y = make_blobs(n_samples=400,\n",
    "                             cluster_std=[1.0, 1.5, 0.5],\n",
    "                             random_state=17)"
   ]
  },
  {
   "cell_type": "code",
   "execution_count": null,
   "metadata": {
    "colab": {
     "base_uri": "https://localhost:8080/",
     "height": 265
    },
    "id": "pbgyFYMl9SL1",
    "outputId": "26804b23-87cd-408a-def5-fd296742302d"
   },
   "outputs": [],
   "source": [
    "plt.scatter(X[:, 0], X[:, 1], marker='o', c=y,\n",
    "            s=25, edgecolor='k')\n",
    "\n",
    "X = torch.tensor(X)\n",
    "y = torch.tensor(y)"
   ]
  },
  {
   "cell_type": "code",
   "execution_count": null,
   "metadata": {
    "id": "YE3gnkkN9SL1"
   },
   "outputs": [],
   "source": [
    "model = nn.Sequential()\n",
    "model.add_module('first', nn.Linear(2, 5))\n",
    "model.add_module('first_activation', nn.Sigmoid())\n",
    "model.add_module('second', nn.Linear(5, 5))\n",
    "model.add_module('second_activation', nn.Sigmoid())\n",
    "model.add_module('third', nn.Linear(5, 3))"
   ]
  },
  {
   "cell_type": "code",
   "execution_count": null,
   "metadata": {
    "colab": {
     "base_uri": "https://localhost:8080/"
    },
    "id": "tqBQn5yW9SL2",
    "outputId": "fc339779-bee2-4cc5-aa91-ec285e824bc1"
   },
   "outputs": [],
   "source": [
    "criterion = torch.nn.CrossEntropyLoss()\n",
    "\n",
    "optim = torch.optim.SGD(model.parameters(), lr=0.1)\n",
    "\n",
    "model.train()"
   ]
  },
  {
   "cell_type": "code",
   "execution_count": null,
   "metadata": {
    "colab": {
     "base_uri": "https://localhost:8080/",
     "height": 282
    },
    "id": "KCBrFli99SL2",
    "outputId": "8f15148e-39a3-436b-f424-2e03d696b914"
   },
   "outputs": [],
   "source": [
    "from IPython.display import clear_output\n",
    "\n",
    "\n",
    "h = .02  # step size in the mesh\n",
    "cm = plt.cm.RdBu\n",
    "x_min, x_max = X[:, 0].min() - .5, X[:, 0].max() + .5\n",
    "y_min, y_max = X[:, 1].min() - .5, X[:, 1].max() + .5\n",
    "xx, yy = np.meshgrid(np.arange(x_min, x_max, h),\n",
    "                     np.arange(y_min, y_max, h))\n",
    "\n",
    "model.train()\n",
    "for i in range(1000):\n",
    "    \n",
    "    y_pred = model(X.float())\n",
    "    \n",
    "    loss = criterion(y_pred, y.long())\n",
    "    \n",
    "    loss.backward()\n",
    "    \n",
    "    optim.step()           \n",
    "    optim.zero_grad() \n",
    "    if (i+1)%25==0:\n",
    "        clear_output(True)\n",
    "        input_tensor = torch.from_numpy(np.c_[xx.ravel(), yy.ravel()]).float()\n",
    "        Z = model(input_tensor)\n",
    "        Z = torch.argmax(Z, axis=1)\n",
    "        Z = Z.reshape(xx.shape)\n",
    "        \n",
    "        plt.scatter(X[:, 0], X[:, 1], marker='o', c=y,\n",
    "            s=25, edgecolor='k')\n",
    "\n",
    "        plt.contourf(xx, yy, Z.detach().numpy(), cmap=cm, alpha=.8)\n",
    "        \n",
    "        plt.show()\n",
    "        \n",
    "        \n",
    "        print (\"Iteration: {}, Loss: {}\".format(i, loss))"
   ]
  },
  {
   "cell_type": "code",
   "execution_count": null,
   "metadata": {
    "id": "vu1IH2Nr9SL2"
   },
   "outputs": [],
   "source": []
  }
 ],
 "metadata": {
  "colab": {
   "collapsed_sections": [],
   "provenance": []
  },
  "kernelspec": {
   "display_name": "misis_mag_nn_fall_2023-venv",
   "language": "python",
   "name": "misis_mag_nn_fall_2023-venv"
  },
  "language_info": {
   "codemirror_mode": {
    "name": "ipython",
    "version": 3
   },
   "file_extension": ".py",
   "mimetype": "text/x-python",
   "name": "python",
   "nbconvert_exporter": "python",
   "pygments_lexer": "ipython3",
   "version": "3.9.6"
  }
 },
 "nbformat": 4,
 "nbformat_minor": 1
}
