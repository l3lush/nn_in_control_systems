{
 "cells": [
  {
   "cell_type": "markdown",
   "id": "5f6bb0f2",
   "metadata": {},
   "source": [
    "# Семинар 2. Погружаемся в нейроны\n",
    "\n",
    "### 0. С чего вообще все пошло?"
   ]
  },
  {
   "cell_type": "markdown",
   "id": "a3a6989b",
   "metadata": {},
   "source": [
    "![нейрон](https://aisimple.ru/uploads/posts/2023-06/neuron.jpg)"
   ]
  },
  {
   "cell_type": "markdown",
   "id": "653264ba",
   "metadata": {},
   "source": [
    "Из строения нейрона делаем выводы:\n",
    "- **Дендритов** (входных каналов) может быть **много**\n",
    "- **Аксон** (выходной канал) может быть только **один** (но в будущем он может ветвиться)"
   ]
  },
  {
   "cell_type": "markdown",
   "id": "5509b38e",
   "metadata": {},
   "source": [
    "У дендритов есть шипики, и чем больше шипиков, тем больше вклад (**вес**) конкретного дендрита в проводимость сигнала.  \n",
    "Например: смотря на кошку, больший вклад в распознавание кошки вносят сигналы, получаемые зрительным нервом, нежели ощущения в пятке.\n",
    "\n",
    "---\n",
    "\n",
    "Теперь перенесемся к искусственным нейронам, имеем:\n",
    "- Дендриты (входы)\n",
    "- Аксон (выход)\n",
    "- Тело нейрона \n",
    "\n",
    "![](https://wiki.loginom.ru/images/artificial-neuron.svg)"
   ]
  },
  {
   "cell_type": "markdown",
   "id": "b9a0998b",
   "metadata": {},
   "source": [
    "Внутри нейрона происходит суммирование всех сигналов с их весами:\n",
    "$$\n",
    "S = \\sum_{i=1}^{n}{X_i \\cdot w_i}\n",
    "$$\n",
    "\n",
    "**НО**  \n",
    "Не все сигналы проходят дальше, иначе от нейронов не было смысла.  \n",
    "На примере с кошкой представьте, что если бы у вас были закрыты глаза, а вы бы все равно распознавали образ кошки только потому что получаете сигналы от ощущений своей пятки.  \n",
    "Поэтому нейрону необходимо еще **активироваться**, иначе говоря пропустить сигнал дальше при каких-то условиях, в простейшем случае - пороговая функция, как на рисунке ниже. \n",
    "\n",
    "![](https://aisimple.ru/uploads/posts/2020-04/1586743155_step.png)"
   ]
  },
  {
   "cell_type": "markdown",
   "id": "5f0f9b63",
   "metadata": {},
   "source": [
    "Теперь перенесем имеющуюся информациию на язык Python.  \n",
    "Инициализируем наши сигналы и веса."
   ]
  },
  {
   "cell_type": "code",
   "execution_count": 1,
   "id": "40f74ab3",
   "metadata": {},
   "outputs": [],
   "source": [
    "x1 = 0.1\n",
    "x2 = 0.3\n",
    "x3 = 0.4\n",
    "\n",
    "w1 = 0.2\n",
    "w2 = -0.3\n",
    "w3 = -0.1"
   ]
  },
  {
   "cell_type": "markdown",
   "id": "8e7cfb8b",
   "metadata": {},
   "source": [
    "Суммируем все это"
   ]
  },
  {
   "cell_type": "code",
   "execution_count": 2,
   "id": "1d1bcd36",
   "metadata": {},
   "outputs": [
    {
     "name": "stdout",
     "output_type": "stream",
     "text": [
      "-0.11\n"
     ]
    }
   ],
   "source": [
    "s = x1 * w1 + x2 * w2 + x3 * w3\n",
    "print(s)"
   ]
  },
  {
   "cell_type": "code",
   "execution_count": 3,
   "id": "e2f0288d",
   "metadata": {},
   "outputs": [
    {
     "name": "stdout",
     "output_type": "stream",
     "text": [
      "0\n"
     ]
    }
   ],
   "source": [
    "if s > 0:\n",
    "    output_signal = 1\n",
    "else:\n",
    "    output_signal = 0\n",
    "print(output_signal)"
   ]
  },
  {
   "cell_type": "markdown",
   "id": "60646e31",
   "metadata": {},
   "source": [
    "Нейрон не активировался, потому что суммарный сигнал оказался слишком слабым, чтобы пробить порог функции.  "
   ]
  },
  {
   "cell_type": "markdown",
   "id": "a1f47a7e",
   "metadata": {},
   "source": [
    "Какие проблемы у кода выше? \n",
    "- Если много входов, то выражение для `s` станет невероятно большим, все придется писать руками.  \n",
    "- Если хотим менять функцию активации, лучше обернуть ее в функцию Python.  \n",
    "\n",
    "Можно ли сделать код еще лучше? Можно!"
   ]
  },
  {
   "cell_type": "code",
   "execution_count": 4,
   "id": "a52f5fc9",
   "metadata": {},
   "outputs": [],
   "source": [
    "x = [0.1, 0.3, 0.4, 0.4, 0.2]\n",
    "w = [0.2, -0.3, -0.1, 0.1, 0.5]\n",
    "\n",
    "\n",
    "def sum_inside_neuron(x_list, w_list):\n",
    "    output = 0\n",
    "    for i in range(len(x_list)):\n",
    "        output += x_list[i] * w_list[i]\n",
    "    return output\n",
    "\n",
    "\n",
    "def activation(input_signal):\n",
    "    if input_signal > 0:\n",
    "        return 1\n",
    "    return 0"
   ]
  },
  {
   "cell_type": "markdown",
   "id": "06916387",
   "metadata": {},
   "source": [
    "Проверяем"
   ]
  },
  {
   "cell_type": "code",
   "execution_count": 5,
   "id": "a2f33a65",
   "metadata": {},
   "outputs": [
    {
     "name": "stdout",
     "output_type": "stream",
     "text": [
      "0.030000000000000013\n"
     ]
    }
   ],
   "source": [
    "neuron_sum = sum_inside_neuron(x, w)\n",
    "print(neuron_sum)"
   ]
  },
  {
   "cell_type": "code",
   "execution_count": 6,
   "id": "58db4681",
   "metadata": {},
   "outputs": [
    {
     "name": "stdout",
     "output_type": "stream",
     "text": [
      "1\n"
     ]
    }
   ],
   "source": [
    "print(activation(neuron_sum))"
   ]
  },
  {
   "cell_type": "markdown",
   "id": "eaca713c",
   "metadata": {},
   "source": [
    "Теперь можем работать со сколь угодно большими по размерам `X` и `W`."
   ]
  },
  {
   "cell_type": "code",
   "execution_count": 7,
   "id": "a00c2622",
   "metadata": {},
   "outputs": [],
   "source": [
    "import random"
   ]
  },
  {
   "cell_type": "code",
   "execution_count": 8,
   "id": "a3519038",
   "metadata": {},
   "outputs": [
    {
     "data": {
      "text/plain": [
       "0.949554170077141"
      ]
     },
     "execution_count": 8,
     "metadata": {},
     "output_type": "execute_result"
    }
   ],
   "source": [
    "random.random()  # возращает случайное число от 0 до 1"
   ]
  },
  {
   "cell_type": "code",
   "execution_count": 9,
   "id": "8d728d9c",
   "metadata": {},
   "outputs": [
    {
     "name": "stdout",
     "output_type": "stream",
     "text": [
      "2491.287932050427\n",
      "1\n"
     ]
    }
   ],
   "source": [
    "x = [random.random() for _ in range(10000)]\n",
    "w = [random.random() for _ in range(10000)]\n",
    "\n",
    "neuron_sum = sum_inside_neuron(x, w)\n",
    "print(neuron_sum)\n",
    "\n",
    "print(activation(neuron_sum))"
   ]
  },
  {
   "cell_type": "markdown",
   "id": "8d0ff542",
   "metadata": {},
   "source": [
    "Хорошо, теперь умеем считать выход нашего нейрона для одного наблюдения за раз.  \n",
    "А если хотим много наблюдений за раз?  \n",
    "Что значит __много наблюдений__?  \n",
    "Например, нейрон решает, пойду ли я гулять на основе 3 факторов:\n",
    "1. Температура на улице\n",
    "2. Скорость ветра\n",
    "3. Есть ли у меня настроение гулять\n",
    "\n",
    "Первые два признака называются __численными/непрерывными__, то есть могут принять любое число. Примеры: все, что можно посчитать и сравнить между собой, _температура_, _деньги_, _скорости_, _расстояния_, _возраст_ и т.д.   \n",
    "Третий признак является __качественным/категориальным__, то есть может быть. Примеры: все, что нельзя сравнить между собой, и что является качеством объекта, _цвета_, _день недели_, _образование_, _гражданство_, _номер группы студента_.  \n",
    "\n",
    "Допустим, вчера в 15:00 было -12 градусов на улице, скорость ветра 5 м/c, и у меня не было настроения (0).  \n",
    "Тогда"
   ]
  },
  {
   "cell_type": "code",
   "execution_count": 10,
   "id": "ccf5f2e5",
   "metadata": {},
   "outputs": [
    {
     "name": "stdout",
     "output_type": "stream",
     "text": [
      "-7.642490687181608\n",
      "0\n"
     ]
    }
   ],
   "source": [
    "x = [-12, 5, 0]\n",
    "w = [random.random() for _ in range(3)]  # зададим случайные веса\n",
    "\n",
    "neuron_sum = sum_inside_neuron(x, w)\n",
    "print(neuron_sum)\n",
    "print(activation(neuron_sum))"
   ]
  },
  {
   "cell_type": "markdown",
   "id": "f6eb2386",
   "metadata": {},
   "source": [
    "Затем, вчера же в 16:00 было -10 градусов, скорость ветра 1 м/c, и у меня есть настроение (1)"
   ]
  },
  {
   "cell_type": "code",
   "execution_count": 11,
   "id": "3df0d644",
   "metadata": {},
   "outputs": [
    {
     "name": "stdout",
     "output_type": "stream",
     "text": [
      "-7.286353328033779\n",
      "0\n"
     ]
    }
   ],
   "source": [
    "x = [-10, 1, 1]\n",
    "# веса мы не обновляем, нейрон же остался прежним\n",
    "\n",
    "neuron_sum = sum_inside_neuron(x, w)\n",
    "print(neuron_sum)\n",
    "print(activation(neuron_sum))"
   ]
  },
  {
   "cell_type": "markdown",
   "id": "04804e0d",
   "metadata": {},
   "source": [
    "Аналогично я могу собрать данные за все дни года, но неужели придется перепрогонять для каждого x эту ячейку снова и снова?  \n",
    "**НЕТ**  \n",
    "Мы умеем писать функции с необходимым функционалом"
   ]
  },
  {
   "cell_type": "code",
   "execution_count": 12,
   "id": "744cfe90",
   "metadata": {},
   "outputs": [
    {
     "name": "stdout",
     "output_type": "stream",
     "text": [
      "[[-12, 5, 0], [-10, 1, 1], [3, 0, 1], [5, 3, 0]]\n"
     ]
    }
   ],
   "source": [
    "x_15_00 = [-12, 5, 0]\n",
    "x_16_00 = [-10, 1, 1]\n",
    "x_17_00 = [3, 0, 1]\n",
    "x_18_00 = [5, 3, 0]\n",
    "\n",
    "x_total = [x_15_00, x_16_00, x_17_00, x_18_00]\n",
    "print(x_total)"
   ]
  },
  {
   "cell_type": "markdown",
   "id": "abe50394",
   "metadata": {},
   "source": [
    "Обновляем функции, чтобы они умели работать с листами листов  \n",
    "Варианта 2:\n",
    "1. Переписать изначальную функцию  \n",
    "2. Использовать первоначальную функцию для каждого листа"
   ]
  },
  {
   "cell_type": "markdown",
   "id": "2bc73bd8",
   "metadata": {},
   "source": [
    "1 вариант"
   ]
  },
  {
   "cell_type": "code",
   "execution_count": 13,
   "id": "ce22d475",
   "metadata": {},
   "outputs": [],
   "source": [
    "def sum_inside_neuron(x_list, w_list):\n",
    "    output = []\n",
    "    for x_one_list in x_list:\n",
    "        total_sum = 0\n",
    "        for i in range(len(x_one_list)):\n",
    "            total_sum += x_one_list[i] * w_list[i]\n",
    "        output.append(total_sum)\n",
    "    return output\n",
    "\n",
    "\n",
    "def activation(input_signal):\n",
    "    output = []\n",
    "    for one_signal in input_signal:\n",
    "        if one_signal > 0:\n",
    "            output.append(1)\n",
    "        else:\n",
    "            output.append(0)\n",
    "    return output"
   ]
  },
  {
   "cell_type": "code",
   "execution_count": 14,
   "id": "ac17fa7b",
   "metadata": {},
   "outputs": [
    {
     "name": "stdout",
     "output_type": "stream",
     "text": [
      "[-7.642490687181608, -7.286353328033779, 2.505745872342805, 4.925442660131714]\n"
     ]
    }
   ],
   "source": [
    "sums = sum_inside_neuron(x_total, w)\n",
    "print(sums)"
   ]
  },
  {
   "cell_type": "code",
   "execution_count": 15,
   "id": "a38f1a2e",
   "metadata": {},
   "outputs": [
    {
     "name": "stdout",
     "output_type": "stream",
     "text": [
      "[0, 0, 1, 1]\n"
     ]
    }
   ],
   "source": [
    "print(activation(sums))"
   ]
  },
  {
   "cell_type": "markdown",
   "id": "f0b5a835",
   "metadata": {},
   "source": [
    "2 вариант"
   ]
  },
  {
   "cell_type": "code",
   "execution_count": 16,
   "id": "4676422b",
   "metadata": {},
   "outputs": [],
   "source": [
    "def sum_inside_neuron(x_list, w_list):\n",
    "    \"\"\"Умеет считать сумму для одного наблюдения\"\"\"\n",
    "    output = 0\n",
    "    for i in range(len(x_list)):\n",
    "        output += x_list[i] * w_list[i]\n",
    "    return output\n",
    "\n",
    "\n",
    "def activation(input_signal):\n",
    "    \"\"\"Умеет считать активацию для одного наблюдения\"\"\"\n",
    "    if input_signal > 0:\n",
    "        return 1\n",
    "    return 0\n",
    "\n",
    "\n",
    "def total_sum_inside_neuron(x_list, w_list):\n",
    "    \"\"\"Умеет считать сумму для любого количества наблюдений\"\"\"\n",
    "    output = []\n",
    "    for x_one_list in x_list:\n",
    "        one_output = sum_inside_neuron(x_one_list, w_list)\n",
    "        output.append(one_output)\n",
    "    return output\n",
    "\n",
    "\n",
    "def total_activation(input_signal):\n",
    "    \"\"\"Умеет считать активации для любого количества наблюдений\"\"\"\n",
    "    output = []\n",
    "    for one_signal in input_signal:\n",
    "        one_output = activation(one_signal)\n",
    "        output.append(one_output)\n",
    "    return output"
   ]
  },
  {
   "cell_type": "code",
   "execution_count": 17,
   "id": "0b6e2958",
   "metadata": {},
   "outputs": [
    {
     "name": "stdout",
     "output_type": "stream",
     "text": [
      "[-7.642490687181608, -7.286353328033779, 2.505745872342805, 4.925442660131714]\n"
     ]
    }
   ],
   "source": [
    "sums = total_sum_inside_neuron(x_total, w)\n",
    "print(sums)"
   ]
  },
  {
   "cell_type": "code",
   "execution_count": 18,
   "id": "c48ffbcf",
   "metadata": {},
   "outputs": [
    {
     "name": "stdout",
     "output_type": "stream",
     "text": [
      "[0, 0, 1, 1]\n"
     ]
    }
   ],
   "source": [
    "print(total_activation(sums))"
   ]
  },
  {
   "cell_type": "markdown",
   "id": "c9e7bb5d",
   "metadata": {},
   "source": [
    "А насколько это быстро считается?"
   ]
  },
  {
   "cell_type": "code",
   "execution_count": 19,
   "id": "e5086f93",
   "metadata": {},
   "outputs": [],
   "source": [
    "x_total = [[random.random() for _ in range(3)] for _ in range(5_000_000)]"
   ]
  },
  {
   "cell_type": "code",
   "execution_count": 20,
   "id": "df7d7106",
   "metadata": {},
   "outputs": [
    {
     "name": "stdout",
     "output_type": "stream",
     "text": [
      "CPU times: total: 1.92 s\n",
      "Wall time: 5.33 s\n"
     ]
    }
   ],
   "source": [
    "%%time\n",
    "sums = total_sum_inside_neuron(x_total, w)"
   ]
  },
  {
   "cell_type": "code",
   "execution_count": 21,
   "id": "5f25b40f",
   "metadata": {},
   "outputs": [
    {
     "name": "stdout",
     "output_type": "stream",
     "text": [
      "CPU times: total: 656 ms\n",
      "Wall time: 971 ms\n"
     ]
    }
   ],
   "source": [
    "%%time\n",
    "activations = total_activation(sums)"
   ]
  },
  {
   "cell_type": "markdown",
   "id": "92bf41f9",
   "metadata": {},
   "source": [
    "Можно ли быстрее?  \n",
    "**МОЖНО**"
   ]
  },
  {
   "cell_type": "code",
   "execution_count": 22,
   "id": "403cf4b6",
   "metadata": {},
   "outputs": [],
   "source": [
    "import numpy as np"
   ]
  },
  {
   "cell_type": "code",
   "execution_count": 23,
   "id": "b33b85d0",
   "metadata": {},
   "outputs": [],
   "source": [
    "x_total_np = np.array(x_total)\n",
    "w_np = np.array(w)"
   ]
  },
  {
   "cell_type": "code",
   "execution_count": 24,
   "id": "4d840f3c",
   "metadata": {},
   "outputs": [
    {
     "data": {
      "text/plain": [
       "array([[0.72041102, 0.31286999, 0.8133209 ],\n",
       "       [0.94717387, 0.45976491, 0.51298719],\n",
       "       [0.94895187, 0.51860254, 0.07472374],\n",
       "       ...,\n",
       "       [0.56306288, 0.90407426, 0.55142471],\n",
       "       [0.07088362, 0.95047693, 0.52096639],\n",
       "       [0.14425682, 0.12072369, 0.03268298]])"
      ]
     },
     "execution_count": 24,
     "metadata": {},
     "output_type": "execute_result"
    }
   ],
   "source": [
    "x_total_np"
   ]
  },
  {
   "cell_type": "code",
   "execution_count": 25,
   "id": "b28e3c2d",
   "metadata": {},
   "outputs": [
    {
     "data": {
      "text/plain": [
       "array([0.77958501, 0.34250588, 0.16699085])"
      ]
     },
     "execution_count": 25,
     "metadata": {},
     "output_type": "execute_result"
    }
   ],
   "source": [
    "w_np"
   ]
  },
  {
   "cell_type": "code",
   "execution_count": 26,
   "id": "dcf8e374",
   "metadata": {},
   "outputs": [
    {
     "data": {
      "text/plain": [
       "(5000000, 3)"
      ]
     },
     "execution_count": 26,
     "metadata": {},
     "output_type": "execute_result"
    }
   ],
   "source": [
    "x_total_np.shape"
   ]
  },
  {
   "cell_type": "code",
   "execution_count": 27,
   "id": "bcbadded",
   "metadata": {},
   "outputs": [
    {
     "data": {
      "text/plain": [
       "(3,)"
      ]
     },
     "execution_count": 27,
     "metadata": {},
     "output_type": "execute_result"
    }
   ],
   "source": [
    "w_np.shape"
   ]
  },
  {
   "cell_type": "code",
   "execution_count": 31,
   "id": "ae3c06dc-4673-46b0-a018-b60f89d319da",
   "metadata": {},
   "outputs": [
    {
     "name": "stdout",
     "output_type": "stream",
     "text": [
      "CPU times: total: 31.2 ms\n",
      "Wall time: 26 ms\n"
     ]
    }
   ],
   "source": [
    "%%time\n",
    "output = x_total_np @ w_np"
   ]
  },
  {
   "cell_type": "code",
   "execution_count": 32,
   "id": "bb86c470-26f8-45a9-b158-729785b93708",
   "metadata": {},
   "outputs": [
    {
     "data": {
      "text/plain": [
       "array([0.80459859, 0.9815389 , 0.92989125, ..., 0.84068901, 0.46780036,\n",
       "       0.15926679])"
      ]
     },
     "execution_count": 32,
     "metadata": {},
     "output_type": "execute_result"
    }
   ],
   "source": [
    "output"
   ]
  },
  {
   "cell_type": "code",
   "execution_count": 30,
   "id": "ab06a7c1",
   "metadata": {},
   "outputs": [
    {
     "data": {
      "text/plain": [
       "(5000000,)"
      ]
     },
     "execution_count": 30,
     "metadata": {},
     "output_type": "execute_result"
    }
   ],
   "source": [
    "output.shape"
   ]
  },
  {
   "cell_type": "code",
   "execution_count": 33,
   "id": "0679f0dc",
   "metadata": {},
   "outputs": [],
   "source": [
    "m1 = np.random.random((5023, 42))\n",
    "m2 = np.random.random((42, 4023))"
   ]
  },
  {
   "cell_type": "code",
   "execution_count": null,
   "id": "5c6aad1f",
   "metadata": {},
   "outputs": [],
   "source": [
    "[[1, 2, 3],     [[2, 3],          [[1 * 2 + 2 * 4 + 3 + 6, ]]\n",
    " [2, 3, 4]]      [4, 5],\n",
    "                 [6, 7]]\n",
    "    (2, 3)       (3, 2)     ->    (2, 2)"
   ]
  },
  {
   "cell_type": "code",
   "execution_count": 35,
   "id": "8b0dd0e3-55b6-4875-8d0e-a4efba0d007a",
   "metadata": {},
   "outputs": [
    {
     "data": {
      "text/plain": [
       "(5023, 42)"
      ]
     },
     "execution_count": 35,
     "metadata": {},
     "output_type": "execute_result"
    }
   ],
   "source": [
    "m1.shape"
   ]
  },
  {
   "cell_type": "code",
   "execution_count": 36,
   "id": "2531afe2-8c82-4466-86ec-9c5c5f17b4e6",
   "metadata": {},
   "outputs": [
    {
     "data": {
      "text/plain": [
       "(42, 4023)"
      ]
     },
     "execution_count": 36,
     "metadata": {},
     "output_type": "execute_result"
    }
   ],
   "source": [
    "m2.shape"
   ]
  },
  {
   "cell_type": "code",
   "execution_count": 37,
   "id": "d847a667",
   "metadata": {},
   "outputs": [
    {
     "data": {
      "text/plain": [
       "(5023, 4023)"
      ]
     },
     "execution_count": 37,
     "metadata": {},
     "output_type": "execute_result"
    }
   ],
   "source": [
    "(m1 @ m2).shape"
   ]
  },
  {
   "cell_type": "code",
   "execution_count": null,
   "id": "675e0280",
   "metadata": {},
   "outputs": [],
   "source": [
    "(50, 10) @ (12, 40)"
   ]
  },
  {
   "cell_type": "code",
   "execution_count": null,
   "id": "b7d701f0",
   "metadata": {},
   "outputs": [],
   "source": [
    "(15, 12) @ (12, 17) -> (15, 17)"
   ]
  },
  {
   "cell_type": "code",
   "execution_count": 38,
   "id": "069064fd",
   "metadata": {},
   "outputs": [
    {
     "name": "stdout",
     "output_type": "stream",
     "text": [
      "CPU times: total: 15.6 ms\n",
      "Wall time: 57.2 ms\n"
     ]
    }
   ],
   "source": [
    "%%time\n",
    "output = x_total_np @ w_np  # через @ обозначается скалярное произведение векторов/матриц"
   ]
  },
  {
   "cell_type": "code",
   "execution_count": 39,
   "id": "24e23146",
   "metadata": {},
   "outputs": [
    {
     "name": "stdout",
     "output_type": "stream",
     "text": [
      "CPU times: total: 719 ms\n",
      "Wall time: 1.02 s\n"
     ]
    }
   ],
   "source": [
    "%%time\n",
    "activation_vectorized = np.vectorize(activation)\n",
    "activations_np = activation_vectorized(output)"
   ]
  },
  {
   "cell_type": "code",
   "execution_count": 40,
   "id": "98c57f99",
   "metadata": {},
   "outputs": [
    {
     "data": {
      "text/plain": [
       "[1, 1, 1, 1, 1, 1, 1, 1, 1, 1]"
      ]
     },
     "execution_count": 40,
     "metadata": {},
     "output_type": "execute_result"
    }
   ],
   "source": [
    "activations[:10]"
   ]
  },
  {
   "cell_type": "code",
   "execution_count": 41,
   "id": "d94a1d67",
   "metadata": {},
   "outputs": [
    {
     "data": {
      "text/plain": [
       "array([1, 1, 1, 1, 1, 1, 1, 1, 1, 1])"
      ]
     },
     "execution_count": 41,
     "metadata": {},
     "output_type": "execute_result"
    }
   ],
   "source": [
    "activations_np[:10]"
   ]
  },
  {
   "cell_type": "code",
   "execution_count": 42,
   "id": "03633d62",
   "metadata": {},
   "outputs": [
    {
     "data": {
      "text/plain": [
       "[0.8045985913702441,\n",
       " 0.9815389028232118,\n",
       " 0.9298912506316823,\n",
       " 0.27791459447719036,\n",
       " 0.6769036805205781]"
      ]
     },
     "execution_count": 42,
     "metadata": {},
     "output_type": "execute_result"
    }
   ],
   "source": [
    "sums[:5]"
   ]
  },
  {
   "cell_type": "markdown",
   "id": "8497c465",
   "metadata": {},
   "source": [
    "4.32 секунды VS 10.3 миллисекунды"
   ]
  },
  {
   "cell_type": "code",
   "execution_count": 45,
   "id": "9425dbe0",
   "metadata": {},
   "outputs": [
    {
     "name": "stdout",
     "output_type": "stream",
     "text": [
      "Быстрее в 93 раз!\n"
     ]
    }
   ],
   "source": [
    "profit = 5.33 * 1e3 / 57.2\n",
    "print(\"Быстрее в\", round(profit), \"раз!\")"
   ]
  },
  {
   "cell_type": "markdown",
   "id": "aadc1bf6",
   "metadata": {},
   "source": [
    "# Библиотеки"
   ]
  },
  {
   "cell_type": "markdown",
   "id": "3d08e5a8",
   "metadata": {},
   "source": [
    "**NumPy** (https://numpy.org) -- библиотека для работы с массивами.  \n",
    "Работаем с примерами отсюда https://numpy.org/doc/stable/user/quickstart.html#the-basics"
   ]
  },
  {
   "cell_type": "code",
   "execution_count": 58,
   "id": "29891058",
   "metadata": {},
   "outputs": [
    {
     "data": {
      "text/plain": [
       "array([ 0,  1,  2,  3,  4,  5,  6,  7,  8,  9, 10, 11, 12, 13, 14])"
      ]
     },
     "execution_count": 58,
     "metadata": {},
     "output_type": "execute_result"
    }
   ],
   "source": [
    "a = np.arange(15)\n",
    "a"
   ]
  },
  {
   "cell_type": "code",
   "execution_count": 59,
   "id": "55f45eaa",
   "metadata": {},
   "outputs": [
    {
     "data": {
      "text/plain": [
       "(15,)"
      ]
     },
     "execution_count": 59,
     "metadata": {},
     "output_type": "execute_result"
    }
   ],
   "source": [
    "a.shape"
   ]
  },
  {
   "cell_type": "code",
   "execution_count": 60,
   "id": "1fc2de3d",
   "metadata": {},
   "outputs": [
    {
     "data": {
      "text/plain": [
       "numpy.ndarray"
      ]
     },
     "execution_count": 60,
     "metadata": {},
     "output_type": "execute_result"
    }
   ],
   "source": [
    "type(a)"
   ]
  },
  {
   "cell_type": "code",
   "execution_count": 62,
   "id": "57f2fadc",
   "metadata": {},
   "outputs": [
    {
     "data": {
      "text/plain": [
       "array([[ 0,  1,  2,  3,  4],\n",
       "       [ 5,  6,  7,  8,  9],\n",
       "       [10, 11, 12, 13, 14]])"
      ]
     },
     "execution_count": 62,
     "metadata": {},
     "output_type": "execute_result"
    }
   ],
   "source": [
    "a = a.reshape(3, 5)\n",
    "a"
   ]
  },
  {
   "cell_type": "code",
   "execution_count": 63,
   "id": "64f1b35d",
   "metadata": {},
   "outputs": [
    {
     "data": {
      "text/plain": [
       "(3, 5)"
      ]
     },
     "execution_count": 63,
     "metadata": {},
     "output_type": "execute_result"
    }
   ],
   "source": [
    "a.shape"
   ]
  },
  {
   "cell_type": "code",
   "execution_count": 64,
   "id": "31cd1404",
   "metadata": {},
   "outputs": [
    {
     "data": {
      "text/plain": [
       "dtype('int32')"
      ]
     },
     "execution_count": 64,
     "metadata": {},
     "output_type": "execute_result"
    }
   ],
   "source": [
    "a.dtype"
   ]
  },
  {
   "cell_type": "code",
   "execution_count": 65,
   "id": "8a650df5",
   "metadata": {},
   "outputs": [
    {
     "data": {
      "text/plain": [
       "numpy.ndarray"
      ]
     },
     "execution_count": 65,
     "metadata": {},
     "output_type": "execute_result"
    }
   ],
   "source": [
    "type(a)"
   ]
  },
  {
   "cell_type": "code",
   "execution_count": 66,
   "id": "72fb78a4",
   "metadata": {},
   "outputs": [
    {
     "data": {
      "text/plain": [
       "array([2, 3, 4])"
      ]
     },
     "execution_count": 66,
     "metadata": {},
     "output_type": "execute_result"
    }
   ],
   "source": [
    "b = [2, 3, 4]\n",
    "a = np.array(b)\n",
    "a"
   ]
  },
  {
   "cell_type": "code",
   "execution_count": 67,
   "id": "474ce5f2",
   "metadata": {},
   "outputs": [
    {
     "data": {
      "text/plain": [
       "dtype('int32')"
      ]
     },
     "execution_count": 67,
     "metadata": {},
     "output_type": "execute_result"
    }
   ],
   "source": [
    "a.dtype"
   ]
  },
  {
   "cell_type": "code",
   "execution_count": 68,
   "id": "33116a02",
   "metadata": {},
   "outputs": [
    {
     "data": {
      "text/plain": [
       "dtype('float64')"
      ]
     },
     "execution_count": 68,
     "metadata": {},
     "output_type": "execute_result"
    }
   ],
   "source": [
    "b = np.array([1.2, 3.5, 5.1])\n",
    "b.dtype"
   ]
  },
  {
   "cell_type": "code",
   "execution_count": 69,
   "id": "6c943769",
   "metadata": {},
   "outputs": [
    {
     "data": {
      "text/plain": [
       "array([[1.5, 2. , 3. ],\n",
       "       [4. , 5. , 6. ]])"
      ]
     },
     "execution_count": 69,
     "metadata": {},
     "output_type": "execute_result"
    }
   ],
   "source": [
    "b = np.array([(1.5, 2, 3), (4, 5, 6)])\n",
    "b"
   ]
  },
  {
   "cell_type": "code",
   "execution_count": 70,
   "id": "7bc0626d-a52d-43c0-ab72-fa200d3d9f74",
   "metadata": {},
   "outputs": [
    {
     "data": {
      "text/plain": [
       "dtype('float64')"
      ]
     },
     "execution_count": 70,
     "metadata": {},
     "output_type": "execute_result"
    }
   ],
   "source": [
    "b.dtype"
   ]
  },
  {
   "cell_type": "code",
   "execution_count": 71,
   "id": "f46fe5b1",
   "metadata": {},
   "outputs": [
    {
     "data": {
      "text/plain": [
       "array([[0., 0., 0., 0.],\n",
       "       [0., 0., 0., 0.],\n",
       "       [0., 0., 0., 0.]])"
      ]
     },
     "execution_count": 71,
     "metadata": {},
     "output_type": "execute_result"
    }
   ],
   "source": [
    "np.zeros((3, 4))"
   ]
  },
  {
   "cell_type": "code",
   "execution_count": 74,
   "id": "0f25f83a",
   "metadata": {},
   "outputs": [
    {
     "data": {
      "text/plain": [
       "array([[[1, 1, 1, 1],\n",
       "        [1, 1, 1, 1],\n",
       "        [1, 1, 1, 1]],\n",
       "\n",
       "       [[1, 1, 1, 1],\n",
       "        [1, 1, 1, 1],\n",
       "        [1, 1, 1, 1]]], dtype=int16)"
      ]
     },
     "execution_count": 74,
     "metadata": {},
     "output_type": "execute_result"
    }
   ],
   "source": [
    "np.ones((2, 3, 4), dtype=np.int16)"
   ]
  },
  {
   "cell_type": "code",
   "execution_count": 75,
   "id": "1a74697b",
   "metadata": {},
   "outputs": [
    {
     "data": {
      "text/plain": [
       "array([10, 15, 20, 25])"
      ]
     },
     "execution_count": 75,
     "metadata": {},
     "output_type": "execute_result"
    }
   ],
   "source": [
    "np.arange(10, 30, 5)"
   ]
  },
  {
   "cell_type": "code",
   "execution_count": 76,
   "id": "089a51bc",
   "metadata": {},
   "outputs": [
    {
     "data": {
      "text/plain": [
       "array([0. , 0.3, 0.6, 0.9, 1.2, 1.5, 1.8])"
      ]
     },
     "execution_count": 76,
     "metadata": {},
     "output_type": "execute_result"
    }
   ],
   "source": [
    "np.arange(0, 2, 0.3)"
   ]
  },
  {
   "cell_type": "markdown",
   "id": "6a4cf46d",
   "metadata": {},
   "source": [
    "Операции с массивами"
   ]
  },
  {
   "cell_type": "code",
   "execution_count": 78,
   "id": "4f1d5f1e",
   "metadata": {},
   "outputs": [
    {
     "name": "stdout",
     "output_type": "stream",
     "text": [
      "[20 30 40 50]\n",
      "[0 1 2 3]\n"
     ]
    }
   ],
   "source": [
    "a = np.array([20, 30, 40, 50])\n",
    "b = np.arange(4)\n",
    "print(a)\n",
    "print(b)"
   ]
  },
  {
   "cell_type": "code",
   "execution_count": 79,
   "id": "4d2a3c61",
   "metadata": {},
   "outputs": [
    {
     "data": {
      "text/plain": [
       "array([20, 29, 38, 47])"
      ]
     },
     "execution_count": 79,
     "metadata": {},
     "output_type": "execute_result"
    }
   ],
   "source": [
    "c = a - b\n",
    "c"
   ]
  },
  {
   "cell_type": "code",
   "execution_count": 83,
   "id": "ba94e299",
   "metadata": {},
   "outputs": [
    {
     "data": {
      "text/plain": [
       "array([0, 1, 4, 9])"
      ]
     },
     "execution_count": 83,
     "metadata": {},
     "output_type": "execute_result"
    }
   ],
   "source": [
    "b ** 2"
   ]
  },
  {
   "cell_type": "code",
   "execution_count": 84,
   "id": "7a1b11ac",
   "metadata": {},
   "outputs": [
    {
     "data": {
      "text/plain": [
       "array([ 0, 10, 20, 30])"
      ]
     },
     "execution_count": 84,
     "metadata": {},
     "output_type": "execute_result"
    }
   ],
   "source": [
    "b * 10"
   ]
  },
  {
   "cell_type": "code",
   "execution_count": 86,
   "id": "853bdcb1",
   "metadata": {},
   "outputs": [
    {
     "data": {
      "text/plain": [
       "array([ 9.12945251, -9.88031624,  7.4511316 , -2.62374854])"
      ]
     },
     "execution_count": 86,
     "metadata": {},
     "output_type": "execute_result"
    }
   ],
   "source": [
    "10 * np.sin(a)"
   ]
  },
  {
   "cell_type": "code",
   "execution_count": 88,
   "id": "c773c430-98b8-4508-8494-3d2f6c418c95",
   "metadata": {},
   "outputs": [
    {
     "data": {
      "text/plain": [
       "array([20, 30, 40, 50])"
      ]
     },
     "execution_count": 88,
     "metadata": {},
     "output_type": "execute_result"
    }
   ],
   "source": [
    "a"
   ]
  },
  {
   "cell_type": "code",
   "execution_count": 87,
   "id": "5eaef8b5",
   "metadata": {},
   "outputs": [
    {
     "data": {
      "text/plain": [
       "array([ True,  True, False, False])"
      ]
     },
     "execution_count": 87,
     "metadata": {},
     "output_type": "execute_result"
    }
   ],
   "source": [
    "a < 35"
   ]
  },
  {
   "cell_type": "code",
   "execution_count": 91,
   "id": "1a5a0166",
   "metadata": {},
   "outputs": [
    {
     "data": {
      "text/plain": [
       "array([20, 30])"
      ]
     },
     "execution_count": 91,
     "metadata": {},
     "output_type": "execute_result"
    }
   ],
   "source": [
    "a[a < 35]"
   ]
  },
  {
   "cell_type": "code",
   "execution_count": 92,
   "id": "acf27363",
   "metadata": {},
   "outputs": [
    {
     "data": {
      "text/plain": [
       "array([[ 0,  1],\n",
       "       [ 2,  3],\n",
       "       [ 4,  5],\n",
       "       [ 6,  7],\n",
       "       [ 8,  9],\n",
       "       [10, 11]])"
      ]
     },
     "execution_count": 92,
     "metadata": {},
     "output_type": "execute_result"
    }
   ],
   "source": [
    "a = np.arange(12).reshape(6, 2)\n",
    "a"
   ]
  },
  {
   "cell_type": "code",
   "execution_count": 93,
   "id": "fe3f0f3f",
   "metadata": {},
   "outputs": [
    {
     "data": {
      "text/plain": [
       "array([[ 0,  2,  4,  6,  8, 10],\n",
       "       [ 1,  3,  5,  7,  9, 11]])"
      ]
     },
     "execution_count": 93,
     "metadata": {},
     "output_type": "execute_result"
    }
   ],
   "source": [
    "a.T"
   ]
  },
  {
   "cell_type": "code",
   "execution_count": 94,
   "id": "1df3e92b",
   "metadata": {},
   "outputs": [
    {
     "data": {
      "text/plain": [
       "(6, 2)"
      ]
     },
     "execution_count": 94,
     "metadata": {},
     "output_type": "execute_result"
    }
   ],
   "source": [
    "a.shape"
   ]
  },
  {
   "cell_type": "code",
   "execution_count": 95,
   "id": "248d6549",
   "metadata": {},
   "outputs": [
    {
     "data": {
      "text/plain": [
       "(2, 6)"
      ]
     },
     "execution_count": 95,
     "metadata": {},
     "output_type": "execute_result"
    }
   ],
   "source": [
    "a.T.shape"
   ]
  },
  {
   "cell_type": "code",
   "execution_count": 96,
   "id": "0a9d3855",
   "metadata": {},
   "outputs": [
    {
     "data": {
      "text/plain": [
       "array([[  1,   3,   5,   7,   9,  11],\n",
       "       [  3,  13,  23,  33,  43,  53],\n",
       "       [  5,  23,  41,  59,  77,  95],\n",
       "       [  7,  33,  59,  85, 111, 137],\n",
       "       [  9,  43,  77, 111, 145, 179],\n",
       "       [ 11,  53,  95, 137, 179, 221]])"
      ]
     },
     "execution_count": 96,
     "metadata": {},
     "output_type": "execute_result"
    }
   ],
   "source": [
    "a @ a.T"
   ]
  },
  {
   "cell_type": "code",
   "execution_count": 97,
   "id": "3ae72c87",
   "metadata": {},
   "outputs": [
    {
     "data": {
      "text/plain": [
       "(6, 6)"
      ]
     },
     "execution_count": 97,
     "metadata": {},
     "output_type": "execute_result"
    }
   ],
   "source": [
    "(a @ a.T).shape"
   ]
  },
  {
   "cell_type": "code",
   "execution_count": 98,
   "id": "0a52d432",
   "metadata": {},
   "outputs": [
    {
     "data": {
      "text/plain": [
       "array([[220, 250],\n",
       "       [250, 286]])"
      ]
     },
     "execution_count": 98,
     "metadata": {},
     "output_type": "execute_result"
    }
   ],
   "source": [
    "a.T @ a"
   ]
  },
  {
   "cell_type": "code",
   "execution_count": 99,
   "id": "48c6e418",
   "metadata": {},
   "outputs": [
    {
     "data": {
      "text/plain": [
       "(2, 2)"
      ]
     },
     "execution_count": 99,
     "metadata": {},
     "output_type": "execute_result"
    }
   ],
   "source": [
    "(a.T @ a).shape"
   ]
  },
  {
   "cell_type": "markdown",
   "id": "be58bb3e",
   "metadata": {},
   "source": [
    "## Хорошо, но в реальных нейронных сетях не один нейрон, как быть в этом случае?\n",
    "Вот нейронная сеть чуть посложнее, чем 1 нейрон  \n",
    "![](https://robocraft.ru/files/neuronet/backpropagation/img01.gif)"
   ]
  },
  {
   "cell_type": "markdown",
   "id": "7880d7f4",
   "metadata": {},
   "source": [
    "Анализируем:\n",
    "- Имеет два входа\n",
    "- Потом 3 нейрона\n",
    "- Потом еще 2\n",
    "- И потом еще 1"
   ]
  },
  {
   "cell_type": "markdown",
   "id": "9b643707",
   "metadata": {},
   "source": [
    "Сгенерируем выборку"
   ]
  },
  {
   "cell_type": "code",
   "execution_count": 100,
   "id": "8204c15e",
   "metadata": {},
   "outputs": [],
   "source": [
    "x_total = np.random.random(size=(10000, 2))  # (num_obs, num_input_neurons/number of features)"
   ]
  },
  {
   "cell_type": "code",
   "execution_count": 101,
   "id": "8259d045",
   "metadata": {},
   "outputs": [
    {
     "data": {
      "text/plain": [
       "array([[0.78944932, 0.07566491],\n",
       "       [0.47264626, 0.60449812],\n",
       "       [0.75671481, 0.59431158],\n",
       "       [0.01785576, 0.40014831],\n",
       "       [0.00356506, 0.00162829]])"
      ]
     },
     "execution_count": 101,
     "metadata": {},
     "output_type": "execute_result"
    }
   ],
   "source": [
    "x_total[:5]"
   ]
  },
  {
   "cell_type": "code",
   "execution_count": 102,
   "id": "c4107123",
   "metadata": {},
   "outputs": [
    {
     "data": {
      "text/plain": [
       "(10000, 2)"
      ]
     },
     "execution_count": 102,
     "metadata": {},
     "output_type": "execute_result"
    }
   ],
   "source": [
    "x_total.shape"
   ]
  },
  {
   "cell_type": "markdown",
   "id": "2becf90f",
   "metadata": {},
   "source": [
    "Теперь разберемся с весами:    \n",
    "У нас 3 нейрона, на каждый из них поступает сигнал с 2 входов.  \n",
    "В прошлом примере у нас был 1 нейрон с 3 входами, и мы делали `w = [random.random() for _ in range(3)]`  \n",
    "Теперь нейрон имеет 2 входа, значит `w = [random.random() for _ in range(2)]`"
   ]
  },
  {
   "cell_type": "code",
   "execution_count": 103,
   "id": "b9aff910",
   "metadata": {},
   "outputs": [],
   "source": [
    "w_1 = [random.random() for _ in range(2)]"
   ]
  },
  {
   "cell_type": "code",
   "execution_count": 104,
   "id": "c7bae258",
   "metadata": {},
   "outputs": [
    {
     "data": {
      "text/plain": [
       "[0.9410268938986819, 0.5372777626740122]"
      ]
     },
     "execution_count": 104,
     "metadata": {},
     "output_type": "execute_result"
    }
   ],
   "source": [
    "w_1"
   ]
  },
  {
   "cell_type": "markdown",
   "id": "1e10c920",
   "metadata": {},
   "source": [
    "Но таких нейронов 3 штуки, значит, нужно 3 таких листа"
   ]
  },
  {
   "cell_type": "code",
   "execution_count": 105,
   "id": "fa30a2e8",
   "metadata": {},
   "outputs": [],
   "source": [
    "w_1 = [random.random() for _ in range(2)]\n",
    "w_2 = [random.random() for _ in range(2)]\n",
    "w_3 = [random.random() for _ in range(2)]"
   ]
  },
  {
   "cell_type": "markdown",
   "id": "32a4c804",
   "metadata": {},
   "source": [
    "Объединим их в один лист"
   ]
  },
  {
   "cell_type": "code",
   "execution_count": 106,
   "id": "175078ba",
   "metadata": {},
   "outputs": [],
   "source": [
    "w = [w_1, w_2, w_3]"
   ]
  },
  {
   "cell_type": "code",
   "execution_count": 107,
   "id": "60d135b9",
   "metadata": {},
   "outputs": [
    {
     "data": {
      "text/plain": [
       "[[0.21392782073607475, 0.4023574915072734],\n",
       " [0.30577858626481835, 0.6670269918463135],\n",
       " [0.2039828785708525, 0.5646521199339549]]"
      ]
     },
     "execution_count": 107,
     "metadata": {},
     "output_type": "execute_result"
    }
   ],
   "source": [
    "w"
   ]
  },
  {
   "cell_type": "code",
   "execution_count": 108,
   "id": "48355c40",
   "metadata": {},
   "outputs": [
    {
     "data": {
      "text/plain": [
       "(3, 2)"
      ]
     },
     "execution_count": 108,
     "metadata": {},
     "output_type": "execute_result"
    }
   ],
   "source": [
    "w = np.array(w)\n",
    "w.shape"
   ]
  },
  {
   "cell_type": "code",
   "execution_count": 109,
   "id": "5abfc875",
   "metadata": {},
   "outputs": [
    {
     "data": {
      "text/plain": [
       "(10000, 2)"
      ]
     },
     "execution_count": 109,
     "metadata": {},
     "output_type": "execute_result"
    }
   ],
   "source": [
    "x_total.shape"
   ]
  },
  {
   "cell_type": "code",
   "execution_count": null,
   "id": "bb4f85b6",
   "metadata": {},
   "outputs": [],
   "source": [
    "X @ W.T"
   ]
  },
  {
   "cell_type": "code",
   "execution_count": 112,
   "id": "a445c92c-5eb9-44ed-a73c-78d88f4192b7",
   "metadata": {},
   "outputs": [],
   "source": [
    "output = x_total @ w.T"
   ]
  },
  {
   "cell_type": "code",
   "execution_count": 114,
   "id": "ef2cf94c-1f81-43b3-85c6-93c61b6d2465",
   "metadata": {},
   "outputs": [
    {
     "data": {
      "text/plain": [
       "(10000, 3)"
      ]
     },
     "execution_count": 114,
     "metadata": {},
     "output_type": "execute_result"
    }
   ],
   "source": [
    "output.shape"
   ]
  },
  {
   "cell_type": "markdown",
   "id": "fa6296b3",
   "metadata": {},
   "source": [
    "То есть матрица весов будет размером (__количество нейронов в слое__, __количество входных нейронов__)"
   ]
  },
  {
   "cell_type": "markdown",
   "id": "4e71ef1c",
   "metadata": {},
   "source": [
    "Если у нас будет 7 нейронов в слое с 3 выходами, то"
   ]
  },
  {
   "cell_type": "code",
   "execution_count": 115,
   "id": "bab140af",
   "metadata": {},
   "outputs": [],
   "source": [
    "w = np.random.random(size=(7, 3))"
   ]
  },
  {
   "cell_type": "code",
   "execution_count": 116,
   "id": "62c4da04",
   "metadata": {},
   "outputs": [
    {
     "data": {
      "text/plain": [
       "array([[0.88746227, 0.37587232, 0.56848174],\n",
       "       [0.79186653, 0.9313787 , 0.39933679],\n",
       "       [0.49425885, 0.30247435, 0.28329669],\n",
       "       [0.78811148, 0.57016365, 0.17807967],\n",
       "       [0.82449254, 0.70629047, 0.47835629],\n",
       "       [0.37842472, 0.69489716, 0.9845088 ],\n",
       "       [0.61923067, 0.57134698, 0.22118021]])"
      ]
     },
     "execution_count": 116,
     "metadata": {},
     "output_type": "execute_result"
    }
   ],
   "source": [
    "w"
   ]
  },
  {
   "cell_type": "code",
   "execution_count": 117,
   "id": "79282498",
   "metadata": {},
   "outputs": [
    {
     "data": {
      "text/plain": [
       "(7, 3)"
      ]
     },
     "execution_count": 117,
     "metadata": {},
     "output_type": "execute_result"
    }
   ],
   "source": [
    "w.shape"
   ]
  },
  {
   "cell_type": "markdown",
   "id": "dbcfd3cf",
   "metadata": {},
   "source": [
    "#### Вернемся к нашей изначальной нейросети с 3 нейронами в первом слое и 2 входами"
   ]
  },
  {
   "cell_type": "code",
   "execution_count": 118,
   "id": "d4d93a01",
   "metadata": {},
   "outputs": [
    {
     "data": {
      "text/plain": [
       "array([[0.47640043, 0.9582993 ],\n",
       "       [0.22382104, 0.27011854],\n",
       "       [0.63867328, 0.98275118]])"
      ]
     },
     "execution_count": 118,
     "metadata": {},
     "output_type": "execute_result"
    }
   ],
   "source": [
    "w = np.random.random(size=(3, 2))\n",
    "w"
   ]
  },
  {
   "cell_type": "markdown",
   "id": "7f23fdc2",
   "metadata": {},
   "source": [
    "У нас есть X, у нас есть W, давайте их женить"
   ]
  },
  {
   "cell_type": "code",
   "execution_count": 119,
   "id": "9a2eeb28",
   "metadata": {},
   "outputs": [
    {
     "data": {
      "text/plain": [
       "(10000, 2)"
      ]
     },
     "execution_count": 119,
     "metadata": {},
     "output_type": "execute_result"
    }
   ],
   "source": [
    "x_total.shape"
   ]
  },
  {
   "cell_type": "code",
   "execution_count": 120,
   "id": "6b5f57b5",
   "metadata": {},
   "outputs": [
    {
     "data": {
      "text/plain": [
       "(3, 2)"
      ]
     },
     "execution_count": 120,
     "metadata": {},
     "output_type": "execute_result"
    }
   ],
   "source": [
    "w.shape"
   ]
  },
  {
   "cell_type": "markdown",
   "id": "a528ec04",
   "metadata": {},
   "source": [
    "Если имеем 10000 наблюдений, то после прохода через 3 нейрона у нас должна быть матрица (10000, 3).  \n",
    "Имеем матрицы (10000, 2) и (3, 2), как сделать (10000, 3)?"
   ]
  },
  {
   "cell_type": "code",
   "execution_count": 121,
   "id": "74efc47b",
   "metadata": {},
   "outputs": [],
   "source": [
    "output = x_total @ w.T"
   ]
  },
  {
   "cell_type": "code",
   "execution_count": 122,
   "id": "0f044009",
   "metadata": {},
   "outputs": [
    {
     "data": {
      "text/plain": [
       "array([[0.44860363, 0.19713386, 0.57855997],\n",
       "       [0.80445901, 0.26907432, 0.89593778],\n",
       "       [0.93002763, 0.32990327, 1.06735394],\n",
       "       [0.39196834, 0.11208397, 0.40465022],\n",
       "       [0.00325879, 0.00123777, 0.00387711]])"
      ]
     },
     "execution_count": 122,
     "metadata": {},
     "output_type": "execute_result"
    }
   ],
   "source": [
    "output[:5]"
   ]
  },
  {
   "cell_type": "code",
   "execution_count": 123,
   "id": "e7bbaf46",
   "metadata": {},
   "outputs": [
    {
     "data": {
      "text/plain": [
       "(10000, 3)"
      ]
     },
     "execution_count": 123,
     "metadata": {},
     "output_type": "execute_result"
    }
   ],
   "source": [
    "output.shape"
   ]
  },
  {
   "cell_type": "markdown",
   "id": "151cd716",
   "metadata": {},
   "source": [
    "#### Дальше имеем 2 нейрона, где каждый получает сигнал от 3 сзадистоящих.  \n",
    "Значит"
   ]
  },
  {
   "cell_type": "code",
   "execution_count": 124,
   "id": "993777c4",
   "metadata": {},
   "outputs": [],
   "source": [
    "w2 = np.random.random(size=(2, 3))"
   ]
  },
  {
   "cell_type": "markdown",
   "id": "f0319014",
   "metadata": {},
   "source": [
    "Как посчитать значения на нейронах дальше?  \n",
    "Опять умножением"
   ]
  },
  {
   "cell_type": "code",
   "execution_count": 125,
   "id": "a2a17140",
   "metadata": {},
   "outputs": [
    {
     "data": {
      "text/plain": [
       "(10000, 3)"
      ]
     },
     "execution_count": 125,
     "metadata": {},
     "output_type": "execute_result"
    }
   ],
   "source": [
    "output.shape"
   ]
  },
  {
   "cell_type": "code",
   "execution_count": 126,
   "id": "3d85ce14",
   "metadata": {},
   "outputs": [
    {
     "data": {
      "text/plain": [
       "(2, 3)"
      ]
     },
     "execution_count": 126,
     "metadata": {},
     "output_type": "execute_result"
    }
   ],
   "source": [
    "w2.shape"
   ]
  },
  {
   "cell_type": "markdown",
   "id": "b723b51c",
   "metadata": {},
   "source": [
    "Из (10000, 3) и (2, 3) должны получить (10000, 2)."
   ]
  },
  {
   "cell_type": "code",
   "execution_count": 127,
   "id": "0579673b",
   "metadata": {},
   "outputs": [],
   "source": [
    "output_2 = output @ w2.T"
   ]
  },
  {
   "cell_type": "code",
   "execution_count": 128,
   "id": "5dea06a6",
   "metadata": {},
   "outputs": [
    {
     "data": {
      "text/plain": [
       "array([[0.70714222, 0.41760782],\n",
       "       [1.16895896, 0.66314745],\n",
       "       [1.37352706, 0.7857757 ],\n",
       "       [0.54723904, 0.30380292],\n",
       "       [0.00490882, 0.00283638],\n",
       "       [0.8828713 , 0.51728855],\n",
       "       [1.19094952, 0.69175072],\n",
       "       [0.98758554, 0.55513515],\n",
       "       [0.53787153, 0.30061412],\n",
       "       [1.05563094, 0.59983645]])"
      ]
     },
     "execution_count": 128,
     "metadata": {},
     "output_type": "execute_result"
    }
   ],
   "source": [
    "output_2[:10]"
   ]
  },
  {
   "cell_type": "code",
   "execution_count": 129,
   "id": "45eaf048",
   "metadata": {},
   "outputs": [
    {
     "data": {
      "text/plain": [
       "(10000, 2)"
      ]
     },
     "execution_count": 129,
     "metadata": {},
     "output_type": "execute_result"
    }
   ],
   "source": [
    "output_2.shape"
   ]
  },
  {
   "cell_type": "markdown",
   "id": "4a1f6802",
   "metadata": {},
   "source": [
    "#### В самом конце у нас один нейрон, значит"
   ]
  },
  {
   "cell_type": "code",
   "execution_count": 130,
   "id": "588da18a",
   "metadata": {},
   "outputs": [],
   "source": [
    "w3 = np.random.random(size=(1, 2))\n",
    "output_3 = output_2 @ w3.T"
   ]
  },
  {
   "cell_type": "code",
   "execution_count": 131,
   "id": "586fb20e",
   "metadata": {},
   "outputs": [
    {
     "data": {
      "text/plain": [
       "array([[0.40370621],\n",
       "       [0.65964282],\n",
       "       [0.77694646],\n",
       "       [0.30692163],\n",
       "       [0.00278469],\n",
       "       [0.5028672 ],\n",
       "       [0.67662765],\n",
       "       [0.55584146],\n",
       "       [0.30223852],\n",
       "       [0.59596983]])"
      ]
     },
     "execution_count": 131,
     "metadata": {},
     "output_type": "execute_result"
    }
   ],
   "source": [
    "output_3[:10]"
   ]
  },
  {
   "cell_type": "code",
   "execution_count": 132,
   "id": "98178aa5",
   "metadata": {},
   "outputs": [
    {
     "data": {
      "text/plain": [
       "(10000, 1)"
      ]
     },
     "execution_count": 132,
     "metadata": {},
     "output_type": "execute_result"
    }
   ],
   "source": [
    "output_3.shape"
   ]
  },
  {
   "cell_type": "code",
   "execution_count": 133,
   "id": "58da681a",
   "metadata": {},
   "outputs": [
    {
     "data": {
      "text/plain": [
       "array([[0.40370621],\n",
       "       [0.65964282],\n",
       "       [0.77694646],\n",
       "       ...,\n",
       "       [0.86518749],\n",
       "       [0.40607423],\n",
       "       [0.92297036]])"
      ]
     },
     "execution_count": 133,
     "metadata": {},
     "output_type": "execute_result"
    }
   ],
   "source": [
    "output_3"
   ]
  },
  {
   "cell_type": "markdown",
   "id": "8e00ffc1",
   "metadata": {},
   "source": [
    "Бинго, мы получили 1 чиселко для каждого из 10000 наблюдений в выборке."
   ]
  },
  {
   "cell_type": "markdown",
   "id": "fa6622f0",
   "metadata": {},
   "source": [
    "![](http://memesmix.net/media/created/l7sksl.jpg)"
   ]
  },
  {
   "cell_type": "code",
   "execution_count": 134,
   "id": "0f856679-7d98-4f74-9dfa-9008551ac1c7",
   "metadata": {},
   "outputs": [],
   "source": [
    "x_total = np.random.random(size=(970, 10))"
   ]
  },
  {
   "cell_type": "code",
   "execution_count": 136,
   "id": "c0328535-f075-44bc-a82b-e04b77f3dbc7",
   "metadata": {},
   "outputs": [],
   "source": [
    "import pandas as pd"
   ]
  },
  {
   "cell_type": "code",
   "execution_count": 137,
   "id": "8bed0642-81d9-4377-af71-443d6a890ba1",
   "metadata": {},
   "outputs": [],
   "source": [
    "data = pd.read_csv('https://raw.githubusercontent.com/datasciencedojo/datasets/master/titanic.csv', sep=',')"
   ]
  },
  {
   "cell_type": "code",
   "execution_count": 139,
   "id": "8ff04bd1-245b-4a7e-8886-f507b1abec63",
   "metadata": {},
   "outputs": [
    {
     "data": {
      "text/plain": [
       "(891, 12)"
      ]
     },
     "execution_count": 139,
     "metadata": {},
     "output_type": "execute_result"
    }
   ],
   "source": [
    "data.shape"
   ]
  },
  {
   "cell_type": "code",
   "execution_count": null,
   "id": "5c170c4d-424a-4722-b9e2-56894e35e82f",
   "metadata": {},
   "outputs": [],
   "source": [
    "[img1, img2, ..., img100]"
   ]
  },
  {
   "cell_type": "code",
   "execution_count": null,
   "id": "9bb68b28-9647-4fbe-bf08-4fe14ab263e1",
   "metadata": {},
   "outputs": [],
   "source": [
    "(100, 3, 224, 224)"
   ]
  },
  {
   "cell_type": "code",
   "execution_count": null,
   "id": "cf103f0f-d45b-4552-883d-49fad02ee71c",
   "metadata": {},
   "outputs": [],
   "source": [
    "(N, M)"
   ]
  },
  {
   "cell_type": "code",
   "execution_count": null,
   "id": "8a1146fe-7c8f-416d-bc44-0803e4fa01a5",
   "metadata": {},
   "outputs": [],
   "source": []
  },
  {
   "cell_type": "code",
   "execution_count": null,
   "id": "f5c84cdb-750d-4e29-908a-2916804d238c",
   "metadata": {},
   "outputs": [],
   "source": []
  },
  {
   "cell_type": "markdown",
   "id": "162794ab",
   "metadata": {
    "jp-MarkdownHeadingCollapsed": true
   },
   "source": [
    "## Это здорово, но как сети учатся?  \n",
    "Это мы узнаем на следующем семинаре"
   ]
  }
 ],
 "metadata": {
  "kernelspec": {
   "display_name": "misis_mag_nn_fall_2023-venv",
   "language": "python",
   "name": "misis_mag_nn_fall_2023-venv"
  },
  "language_info": {
   "codemirror_mode": {
    "name": "ipython",
    "version": 3
   },
   "file_extension": ".py",
   "mimetype": "text/x-python",
   "name": "python",
   "nbconvert_exporter": "python",
   "pygments_lexer": "ipython3",
   "version": "3.9.6"
  }
 },
 "nbformat": 4,
 "nbformat_minor": 5
}
