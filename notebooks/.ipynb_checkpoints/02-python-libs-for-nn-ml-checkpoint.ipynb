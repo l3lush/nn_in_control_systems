{
 "cells": [
  {
   "cell_type": "markdown",
   "id": "5f6bb0f2",
   "metadata": {},
   "source": [
    "# Семинар 2. Погружаемся в нейроны\n",
    "\n",
    "### 0. С чего вообще все пошло?"
   ]
  },
  {
   "cell_type": "markdown",
   "id": "a3a6989b",
   "metadata": {},
   "source": [
    "![нейрон](https://aisimple.ru/uploads/posts/2023-06/neuron.jpg)"
   ]
  },
  {
   "cell_type": "markdown",
   "id": "653264ba",
   "metadata": {},
   "source": [
    "Из строения нейрона делаем выводы:\n",
    "- **Дендритов** (входных каналов) может быть **много**\n",
    "- **Аксон** (выходной канал) может быть только **один** (но в будущем он может ветвиться)"
   ]
  },
  {
   "cell_type": "markdown",
   "id": "5509b38e",
   "metadata": {},
   "source": [
    "У дендритов есть шипики, и чем больше шипиков, тем больше вклад (**вес**) конкретного дендрита в проводимость сигнала.  \n",
    "Например: смотря на кошку, больший вклад в распознавание кошки вносят сигналы, получаемые зрительным нервом, нежели ощущения в пятке.\n",
    "\n",
    "---\n",
    "\n",
    "Теперь перенесемся к искусственным нейронам, имеем:\n",
    "- Дендриты (входы)\n",
    "- Аксон (выход)\n",
    "- Тело нейрона \n",
    "\n",
    "![](https://wiki.loginom.ru/images/artificial-neuron.svg)"
   ]
  },
  {
   "cell_type": "markdown",
   "id": "b9a0998b",
   "metadata": {},
   "source": [
    "Внутри нейрона происходит суммирование всех сигналов с их весами:\n",
    "$$\n",
    "S = \\sum_{i=1}^{n}{X_i \\cdot w_i}\n",
    "$$\n",
    "\n",
    "**НО**  \n",
    "Не все сигналы проходят дальше, иначе от нейронов не было смысла.  \n",
    "На примере с кошкой представьте, что если бы у вас были закрыты глаза, а вы бы все равно распознавали образ кошки только потому что получаете сигналы от ощущений своей пятки.  \n",
    "Поэтому нейрону необходимо еще **активироваться**, иначе говоря пропустить сигнал дальше при каких-то условиях, в простейшем случае - пороговая функция, как на рисунке ниже. \n",
    "\n",
    "![](https://aisimple.ru/uploads/posts/2020-04/1586743155_step.png)"
   ]
  },
  {
   "cell_type": "markdown",
   "id": "5f0f9b63",
   "metadata": {},
   "source": [
    "Теперь перенесем имеющуюся информациию на язык Python.  \n",
    "Инициализируем наши сигналы и веса."
   ]
  },
  {
   "cell_type": "code",
   "execution_count": 1,
   "id": "40f74ab3",
   "metadata": {},
   "outputs": [],
   "source": [
    "x1 = 0.1\n",
    "x2 = 0.3\n",
    "x3 = 0.4\n",
    "w1 = 0.2\n",
    "w2 = -0.3\n",
    "w3 = -0.1"
   ]
  },
  {
   "cell_type": "markdown",
   "id": "8e7cfb8b",
   "metadata": {},
   "source": [
    "Суммируем все это"
   ]
  },
  {
   "cell_type": "code",
   "execution_count": 2,
   "id": "1d1bcd36",
   "metadata": {},
   "outputs": [
    {
     "name": "stdout",
     "output_type": "stream",
     "text": [
      "-0.11\n"
     ]
    }
   ],
   "source": [
    "s = x1 * w1 + x2 * w2 + x3 * w3\n",
    "print(s)"
   ]
  },
  {
   "cell_type": "code",
   "execution_count": 3,
   "id": "e2f0288d",
   "metadata": {},
   "outputs": [
    {
     "name": "stdout",
     "output_type": "stream",
     "text": [
      "0\n"
     ]
    }
   ],
   "source": [
    "if s > 0:\n",
    "    output_signal = 1\n",
    "else:\n",
    "    output_signal = 0\n",
    "print(output_signal)"
   ]
  },
  {
   "cell_type": "markdown",
   "id": "60646e31",
   "metadata": {},
   "source": [
    "Нейрон не активировался, потому что суммарный сигнал оказался слишком слабым, чтобы пробить порог функции.  "
   ]
  },
  {
   "cell_type": "markdown",
   "id": "a1f47a7e",
   "metadata": {},
   "source": [
    "Какие проблемы у кода выше? \n",
    "- Если много входов, то выражение для `s` станет невероятно большим, все придется писать руками.  \n",
    "- Если хотим менять функцию активации, лучше обернуть ее в функцию Python.  \n",
    "\n",
    "Можно ли сделать код еще лучше? Можно!"
   ]
  },
  {
   "cell_type": "code",
   "execution_count": 4,
   "id": "a52f5fc9",
   "metadata": {},
   "outputs": [],
   "source": [
    "x = [0.1, 0.3, 0.4]\n",
    "w = [0.2, -0.3, -0.1]\n",
    "\n",
    "\n",
    "def sum_inside_neuron(x_list, w_list):\n",
    "    output = 0\n",
    "    for i in range(len(x_list)):\n",
    "        output += x_list[i] * w_list[i]\n",
    "    return output\n",
    "\n",
    "\n",
    "def activation(input_signal):\n",
    "    if input_signal > 0:\n",
    "        return 1\n",
    "    return 0"
   ]
  },
  {
   "cell_type": "markdown",
   "id": "06916387",
   "metadata": {},
   "source": [
    "Проверяем"
   ]
  },
  {
   "cell_type": "code",
   "execution_count": 5,
   "id": "a2f33a65",
   "metadata": {},
   "outputs": [
    {
     "name": "stdout",
     "output_type": "stream",
     "text": [
      "-0.11\n"
     ]
    }
   ],
   "source": [
    "neuron_sum = sum_inside_neuron(x, w)\n",
    "print(neuron_sum)"
   ]
  },
  {
   "cell_type": "code",
   "execution_count": 6,
   "id": "58db4681",
   "metadata": {},
   "outputs": [
    {
     "name": "stdout",
     "output_type": "stream",
     "text": [
      "0\n"
     ]
    }
   ],
   "source": [
    "print(activation(neuron_sum))"
   ]
  },
  {
   "cell_type": "markdown",
   "id": "eaca713c",
   "metadata": {},
   "source": [
    "Теперь можем работать со сколь угодно большими по размерам `X` и `W`."
   ]
  },
  {
   "cell_type": "code",
   "execution_count": 7,
   "id": "a00c2622",
   "metadata": {},
   "outputs": [],
   "source": [
    "import random"
   ]
  },
  {
   "cell_type": "code",
   "execution_count": 8,
   "id": "a3519038",
   "metadata": {},
   "outputs": [
    {
     "data": {
      "text/plain": [
       "0.8595666295999562"
      ]
     },
     "execution_count": 8,
     "metadata": {},
     "output_type": "execute_result"
    }
   ],
   "source": [
    "random.random()  # возращает случайное число от 0 до 1"
   ]
  },
  {
   "cell_type": "code",
   "execution_count": 9,
   "id": "8d728d9c",
   "metadata": {},
   "outputs": [
    {
     "name": "stdout",
     "output_type": "stream",
     "text": [
      "2468.993858269586\n",
      "1\n"
     ]
    }
   ],
   "source": [
    "x = [random.random() for _ in range(10000)]\n",
    "w = [random.random() for _ in range(10000)]\n",
    "\n",
    "neuron_sum = sum_inside_neuron(x, w)\n",
    "print(neuron_sum)\n",
    "\n",
    "print(activation(neuron_sum))"
   ]
  },
  {
   "cell_type": "markdown",
   "id": "8d0ff542",
   "metadata": {},
   "source": [
    "Хорошо, теперь умеем считать выход нашего нейрона для одного наблюдения за раз.  \n",
    "А если хотим много наблюдений за раз?  \n",
    "Что значит __много наблюдений__?  \n",
    "Например, нейрон решает, пойду ли я гулять на основе 3 факторов:\n",
    "1. Температура на улице\n",
    "2. Скорость ветра\n",
    "3. Есть ли у меня настроение гулять\n",
    "\n",
    "Первые два признака называются __численными/непрерывными__, то есть могут принять любое число. Примеры: все, что можно посчитать и сравнить между собой, _температура_, _деньги_, _скорости_, _расстояния_, _возраст_ и т.д.   \n",
    "Третий признак является __качественным/категориальным__, то есть может быть. Примеры: все, что нельзя сравнить между собой, и что является качеством объекта, _цвета_, _день недели_, _образование_, _гражданство_, _номер группы студента_.  \n",
    "\n",
    "Допустим, вчера в 15:00 было -12 градусов на улице, скорость ветра 5 м/c, и у меня не было настроения (0).  \n",
    "Тогда"
   ]
  },
  {
   "cell_type": "code",
   "execution_count": 10,
   "id": "ccf5f2e5",
   "metadata": {},
   "outputs": [
    {
     "name": "stdout",
     "output_type": "stream",
     "text": [
      "-6.899538649456054\n",
      "0\n"
     ]
    }
   ],
   "source": [
    "x = [-12, 5, 0]\n",
    "w = [random.random() for _ in range(3)]  # зададим случайные веса\n",
    "\n",
    "neuron_sum = sum_inside_neuron(x, w)\n",
    "print(neuron_sum)\n",
    "print(activation(neuron_sum))"
   ]
  },
  {
   "cell_type": "markdown",
   "id": "f6eb2386",
   "metadata": {},
   "source": [
    "Затем, вчера же в 16:00 было -10 градусов, скорость ветра 1 м/c, и у меня есть настроение (1)"
   ]
  },
  {
   "cell_type": "code",
   "execution_count": 11,
   "id": "3df0d644",
   "metadata": {},
   "outputs": [
    {
     "name": "stdout",
     "output_type": "stream",
     "text": [
      "-7.9040128514266215\n",
      "0\n"
     ]
    }
   ],
   "source": [
    "x = [-10, 1, 1]\n",
    "# веса мы не обновляем, нейрон же остался прежним\n",
    "\n",
    "neuron_sum = sum_inside_neuron(x, w)\n",
    "print(neuron_sum)\n",
    "print(activation(neuron_sum))"
   ]
  },
  {
   "cell_type": "markdown",
   "id": "04804e0d",
   "metadata": {},
   "source": [
    "Аналогично я могу собрать данные за все дни года, но неужели придется перепрогонять для каждого x эту ячейку снова и снова?  \n",
    "**НЕТ**  \n",
    "Мы умеем писать функции с необходимым функционалом"
   ]
  },
  {
   "cell_type": "code",
   "execution_count": 12,
   "id": "744cfe90",
   "metadata": {},
   "outputs": [
    {
     "name": "stdout",
     "output_type": "stream",
     "text": [
      "[[-12, 5, 0], [-10, 1, 1], [3, 0, 1], [5, 3, 0]]\n"
     ]
    }
   ],
   "source": [
    "x_15_00 = [-12, 5, 0]\n",
    "x_16_00 = [-10, 1, 1]\n",
    "x_17_00 = [3, 0, 1]\n",
    "x_18_00 = [5, 3, 0]\n",
    "\n",
    "x_total = [x_15_00, x_16_00, x_17_00, x_18_00]\n",
    "print(x_total)"
   ]
  },
  {
   "cell_type": "markdown",
   "id": "abe50394",
   "metadata": {},
   "source": [
    "Обновляем функции, чтобы они умели работать с листами листов  \n",
    "Варианта 2:\n",
    "1. Переписать изначальную функцию  \n",
    "2. Использовать первоначальную функцию для каждого листа"
   ]
  },
  {
   "cell_type": "markdown",
   "id": "2bc73bd8",
   "metadata": {},
   "source": [
    "1 вариант"
   ]
  },
  {
   "cell_type": "code",
   "execution_count": 13,
   "id": "ce22d475",
   "metadata": {},
   "outputs": [],
   "source": [
    "def sum_inside_neuron(x_list, w_list):\n",
    "    output = []\n",
    "    for x_one_list in x_list:\n",
    "        total_sum = 0\n",
    "        for i in range(len(x_one_list)):\n",
    "            total_sum += x_one_list[i] * w_list[i]\n",
    "        output.append(total_sum)\n",
    "    return output\n",
    "\n",
    "\n",
    "def activation(input_signal):\n",
    "    output = []\n",
    "    for one_signal in input_signal:\n",
    "        if one_signal > 0:\n",
    "            output.append(1)\n",
    "        else:\n",
    "            output.append(0)\n",
    "    return output"
   ]
  },
  {
   "cell_type": "code",
   "execution_count": 14,
   "id": "ac17fa7b",
   "metadata": {},
   "outputs": [
    {
     "name": "stdout",
     "output_type": "stream",
     "text": [
      "[-6.899538649456054, -7.9040128514266215, 2.7879284854502155, 6.577900395724918]\n"
     ]
    }
   ],
   "source": [
    "sums = sum_inside_neuron(x_total, w)\n",
    "print(sums)"
   ]
  },
  {
   "cell_type": "code",
   "execution_count": 15,
   "id": "a38f1a2e",
   "metadata": {},
   "outputs": [
    {
     "name": "stdout",
     "output_type": "stream",
     "text": [
      "[0, 0, 1, 1]\n"
     ]
    }
   ],
   "source": [
    "print(activation(sums))"
   ]
  },
  {
   "cell_type": "markdown",
   "id": "f0b5a835",
   "metadata": {},
   "source": [
    "2 вариант"
   ]
  },
  {
   "cell_type": "code",
   "execution_count": 16,
   "id": "4676422b",
   "metadata": {},
   "outputs": [],
   "source": [
    "def sum_inside_neuron(x_list, w_list):\n",
    "    \"\"\"Умеет считать сумму для одного наблюдения\"\"\"\n",
    "    output = 0\n",
    "    for i in range(len(x_list)):\n",
    "        output += x_list[i] * w_list[i]\n",
    "    return output\n",
    "\n",
    "\n",
    "def activation(input_signal):\n",
    "    \"\"\"Умеет считать активацию для одного наблюдения\"\"\"\n",
    "    if input_signal > 0:\n",
    "        return 1\n",
    "    return 0\n",
    "\n",
    "\n",
    "def total_sum_inside_neuron(x_list, w_list):\n",
    "    \"\"\"Умеет считать сумму для любого количества наблюдений\"\"\"\n",
    "    output = []\n",
    "    for x_one_list in x_list:\n",
    "        one_output = sum_inside_neuron(x_one_list, w_list)\n",
    "        output.append(one_output)\n",
    "    return output\n",
    "\n",
    "\n",
    "def total_activation(input_signal):\n",
    "    \"\"\"Умеет считать активации для любого количества наблюдений\"\"\"\n",
    "    output = []\n",
    "    for one_signal in input_signal:\n",
    "        one_output = activation(one_signal)\n",
    "        output.append(one_output)\n",
    "    return output"
   ]
  },
  {
   "cell_type": "code",
   "execution_count": 17,
   "id": "0b6e2958",
   "metadata": {},
   "outputs": [
    {
     "name": "stdout",
     "output_type": "stream",
     "text": [
      "[-6.899538649456054, -7.9040128514266215, 2.7879284854502155, 6.577900395724918]\n"
     ]
    }
   ],
   "source": [
    "sums = total_sum_inside_neuron(x_total, w)\n",
    "print(sums)"
   ]
  },
  {
   "cell_type": "code",
   "execution_count": 18,
   "id": "c48ffbcf",
   "metadata": {},
   "outputs": [
    {
     "name": "stdout",
     "output_type": "stream",
     "text": [
      "[0, 0, 1, 1]\n"
     ]
    }
   ],
   "source": [
    "print(total_activation(sums))"
   ]
  },
  {
   "cell_type": "markdown",
   "id": "c9e7bb5d",
   "metadata": {},
   "source": [
    "А насколько это быстро считается?"
   ]
  },
  {
   "cell_type": "code",
   "execution_count": 19,
   "id": "e5086f93",
   "metadata": {},
   "outputs": [],
   "source": [
    "x_total = [[random.random() for _ in range(3)] for _ in range(5_000_000)]"
   ]
  },
  {
   "cell_type": "code",
   "execution_count": 20,
   "id": "df7d7106",
   "metadata": {},
   "outputs": [
    {
     "name": "stdout",
     "output_type": "stream",
     "text": [
      "CPU times: total: 2.84 s\n",
      "Wall time: 3.61 s\n"
     ]
    }
   ],
   "source": [
    "%%time\n",
    "sums = total_sum_inside_neuron(x_total, w)"
   ]
  },
  {
   "cell_type": "code",
   "execution_count": 21,
   "id": "5f25b40f",
   "metadata": {},
   "outputs": [
    {
     "name": "stdout",
     "output_type": "stream",
     "text": [
      "CPU times: total: 719 ms\n",
      "Wall time: 938 ms\n"
     ]
    }
   ],
   "source": [
    "%%time\n",
    "activations = total_activation(sums)"
   ]
  },
  {
   "cell_type": "markdown",
   "id": "92bf41f9",
   "metadata": {},
   "source": [
    "Можно ли быстрее?  \n",
    "**МОЖНО**"
   ]
  },
  {
   "cell_type": "code",
   "execution_count": 22,
   "id": "403cf4b6",
   "metadata": {},
   "outputs": [],
   "source": [
    "import numpy as np"
   ]
  },
  {
   "cell_type": "code",
   "execution_count": 23,
   "id": "b33b85d0",
   "metadata": {},
   "outputs": [],
   "source": [
    "x_total_np = np.array(x_total)\n",
    "w_np = np.array(w)"
   ]
  },
  {
   "cell_type": "code",
   "execution_count": 24,
   "id": "069064fd",
   "metadata": {},
   "outputs": [
    {
     "name": "stdout",
     "output_type": "stream",
     "text": [
      "CPU times: total: 31.2 ms\n",
      "Wall time: 20 ms\n"
     ]
    }
   ],
   "source": [
    "%%time\n",
    "output = x_total_np @ w_np  # через @ обозначается скалярное произведение векторов/матриц"
   ]
  },
  {
   "cell_type": "code",
   "execution_count": 25,
   "id": "24e23146",
   "metadata": {},
   "outputs": [
    {
     "name": "stdout",
     "output_type": "stream",
     "text": [
      "CPU times: total: 766 ms\n",
      "Wall time: 1.02 s\n"
     ]
    }
   ],
   "source": [
    "%%time\n",
    "activation_vectorized = np.vectorize(activation)\n",
    "activations_np = activation_vectorized(output)"
   ]
  },
  {
   "cell_type": "code",
   "execution_count": 26,
   "id": "98c57f99",
   "metadata": {},
   "outputs": [
    {
     "data": {
      "text/plain": [
       "[1, 1, 1, 1, 1, 1, 1, 1, 1, 1]"
      ]
     },
     "execution_count": 26,
     "metadata": {},
     "output_type": "execute_result"
    }
   ],
   "source": [
    "activations[:10]"
   ]
  },
  {
   "cell_type": "code",
   "execution_count": 27,
   "id": "d94a1d67",
   "metadata": {},
   "outputs": [
    {
     "data": {
      "text/plain": [
       "array([1, 1, 1, 1, 1, 1, 1, 1, 1, 1])"
      ]
     },
     "execution_count": 27,
     "metadata": {},
     "output_type": "execute_result"
    }
   ],
   "source": [
    "activations_np[:10]"
   ]
  },
  {
   "cell_type": "code",
   "execution_count": 28,
   "id": "03633d62",
   "metadata": {},
   "outputs": [
    {
     "data": {
      "text/plain": [
       "[0.777888645996561,\n",
       " 0.21971968512704002,\n",
       " 1.075363388318277,\n",
       " 0.6719447588740731,\n",
       " 0.6363019781767658]"
      ]
     },
     "execution_count": 28,
     "metadata": {},
     "output_type": "execute_result"
    }
   ],
   "source": [
    "sums[:5]"
   ]
  },
  {
   "cell_type": "code",
   "execution_count": 29,
   "id": "2f3d2062",
   "metadata": {},
   "outputs": [
    {
     "data": {
      "text/plain": [
       "array([0.77788865, 0.21971969, 1.07536339, 0.67194476, 0.63630198])"
      ]
     },
     "execution_count": 29,
     "metadata": {},
     "output_type": "execute_result"
    }
   ],
   "source": [
    "output[:5]"
   ]
  },
  {
   "cell_type": "markdown",
   "id": "8497c465",
   "metadata": {},
   "source": [
    "4.32 секунды VS 10.3 миллисекунды"
   ]
  },
  {
   "cell_type": "code",
   "execution_count": 30,
   "id": "9425dbe0",
   "metadata": {},
   "outputs": [
    {
     "name": "stdout",
     "output_type": "stream",
     "text": [
      "Быстрее в 419 раз!\n"
     ]
    }
   ],
   "source": [
    "profit = 4.32 * 1e3 / 10.3\n",
    "print(\"Быстрее в\", round(profit), \"раз!\")"
   ]
  },
  {
   "cell_type": "markdown",
   "id": "aadc1bf6",
   "metadata": {},
   "source": [
    "# Библиотеки"
   ]
  },
  {
   "cell_type": "markdown",
   "id": "3d08e5a8",
   "metadata": {},
   "source": [
    "**NumPy** (https://numpy.org) -- библиотека для работы с массивами.  \n",
    "Работаем с примерами отсюда https://numpy.org/doc/stable/user/quickstart.html#the-basics"
   ]
  },
  {
   "cell_type": "code",
   "execution_count": 62,
   "id": "29891058",
   "metadata": {},
   "outputs": [
    {
     "data": {
      "text/plain": [
       "array([ 0,  1,  2,  3,  4,  5,  6,  7,  8,  9, 10, 11, 12, 13, 14])"
      ]
     },
     "execution_count": 62,
     "metadata": {},
     "output_type": "execute_result"
    }
   ],
   "source": [
    "a = np.arange(15)\n",
    "a"
   ]
  },
  {
   "cell_type": "code",
   "execution_count": 63,
   "id": "55f45eaa",
   "metadata": {},
   "outputs": [
    {
     "data": {
      "text/plain": [
       "(15,)"
      ]
     },
     "execution_count": 63,
     "metadata": {},
     "output_type": "execute_result"
    }
   ],
   "source": [
    "a.shape"
   ]
  },
  {
   "cell_type": "code",
   "execution_count": 64,
   "id": "1fc2de3d",
   "metadata": {},
   "outputs": [
    {
     "data": {
      "text/plain": [
       "numpy.ndarray"
      ]
     },
     "execution_count": 64,
     "metadata": {},
     "output_type": "execute_result"
    }
   ],
   "source": [
    "type(a)"
   ]
  },
  {
   "cell_type": "code",
   "execution_count": 65,
   "id": "57f2fadc",
   "metadata": {},
   "outputs": [
    {
     "data": {
      "text/plain": [
       "array([[ 0,  1,  2,  3,  4],\n",
       "       [ 5,  6,  7,  8,  9],\n",
       "       [10, 11, 12, 13, 14]])"
      ]
     },
     "execution_count": 65,
     "metadata": {},
     "output_type": "execute_result"
    }
   ],
   "source": [
    "a = a.reshape(3, 5)\n",
    "a"
   ]
  },
  {
   "cell_type": "code",
   "execution_count": 66,
   "id": "64f1b35d",
   "metadata": {},
   "outputs": [
    {
     "data": {
      "text/plain": [
       "(3, 5)"
      ]
     },
     "execution_count": 66,
     "metadata": {},
     "output_type": "execute_result"
    }
   ],
   "source": [
    "a.shape"
   ]
  },
  {
   "cell_type": "code",
   "execution_count": 67,
   "id": "31cd1404",
   "metadata": {},
   "outputs": [
    {
     "data": {
      "text/plain": [
       "dtype('int32')"
      ]
     },
     "execution_count": 67,
     "metadata": {},
     "output_type": "execute_result"
    }
   ],
   "source": [
    "a.dtype"
   ]
  },
  {
   "cell_type": "code",
   "execution_count": 68,
   "id": "8a650df5",
   "metadata": {},
   "outputs": [
    {
     "data": {
      "text/plain": [
       "numpy.ndarray"
      ]
     },
     "execution_count": 68,
     "metadata": {},
     "output_type": "execute_result"
    }
   ],
   "source": [
    "type(a)"
   ]
  },
  {
   "cell_type": "code",
   "execution_count": 69,
   "id": "72fb78a4",
   "metadata": {},
   "outputs": [
    {
     "data": {
      "text/plain": [
       "array([2, 3, 4])"
      ]
     },
     "execution_count": 69,
     "metadata": {},
     "output_type": "execute_result"
    }
   ],
   "source": [
    "b = [2, 3, 4]\n",
    "a = np.array(b)\n",
    "a"
   ]
  },
  {
   "cell_type": "code",
   "execution_count": 70,
   "id": "474ce5f2",
   "metadata": {},
   "outputs": [
    {
     "data": {
      "text/plain": [
       "dtype('int32')"
      ]
     },
     "execution_count": 70,
     "metadata": {},
     "output_type": "execute_result"
    }
   ],
   "source": [
    "a.dtype"
   ]
  },
  {
   "cell_type": "code",
   "execution_count": 71,
   "id": "33116a02",
   "metadata": {},
   "outputs": [
    {
     "data": {
      "text/plain": [
       "dtype('float64')"
      ]
     },
     "execution_count": 71,
     "metadata": {},
     "output_type": "execute_result"
    }
   ],
   "source": [
    "b = np.array([1.2, 3.5, 5.1])\n",
    "b.dtype"
   ]
  },
  {
   "cell_type": "code",
   "execution_count": 72,
   "id": "6c943769",
   "metadata": {},
   "outputs": [
    {
     "data": {
      "text/plain": [
       "array([[1.5, 2. , 3. ],\n",
       "       [4. , 5. , 6. ]])"
      ]
     },
     "execution_count": 72,
     "metadata": {},
     "output_type": "execute_result"
    }
   ],
   "source": [
    "b = np.array([(1.5, 2, 3), (4, 5, 6)])\n",
    "b"
   ]
  },
  {
   "cell_type": "code",
   "execution_count": 73,
   "id": "f46fe5b1",
   "metadata": {},
   "outputs": [
    {
     "data": {
      "text/plain": [
       "array([[0., 0., 0., 0.],\n",
       "       [0., 0., 0., 0.],\n",
       "       [0., 0., 0., 0.]])"
      ]
     },
     "execution_count": 73,
     "metadata": {},
     "output_type": "execute_result"
    }
   ],
   "source": [
    "np.zeros((3, 4))"
   ]
  },
  {
   "cell_type": "code",
   "execution_count": 74,
   "id": "0f25f83a",
   "metadata": {},
   "outputs": [
    {
     "data": {
      "text/plain": [
       "array([[[1, 1, 1, 1],\n",
       "        [1, 1, 1, 1],\n",
       "        [1, 1, 1, 1]],\n",
       "\n",
       "       [[1, 1, 1, 1],\n",
       "        [1, 1, 1, 1],\n",
       "        [1, 1, 1, 1]]], dtype=int16)"
      ]
     },
     "execution_count": 74,
     "metadata": {},
     "output_type": "execute_result"
    }
   ],
   "source": [
    "np.ones((2, 3, 4), dtype=np.int16)"
   ]
  },
  {
   "cell_type": "code",
   "execution_count": 75,
   "id": "1a74697b",
   "metadata": {},
   "outputs": [
    {
     "data": {
      "text/plain": [
       "array([10, 15, 20, 25])"
      ]
     },
     "execution_count": 75,
     "metadata": {},
     "output_type": "execute_result"
    }
   ],
   "source": [
    "np.arange(10, 30, 5)"
   ]
  },
  {
   "cell_type": "code",
   "execution_count": 76,
   "id": "089a51bc",
   "metadata": {},
   "outputs": [
    {
     "data": {
      "text/plain": [
       "array([0. , 0.3, 0.6, 0.9, 1.2, 1.5, 1.8])"
      ]
     },
     "execution_count": 76,
     "metadata": {},
     "output_type": "execute_result"
    }
   ],
   "source": [
    "np.arange(0, 2, 0.3)"
   ]
  },
  {
   "cell_type": "markdown",
   "id": "6a4cf46d",
   "metadata": {},
   "source": [
    "Операции с массивами"
   ]
  },
  {
   "cell_type": "code",
   "execution_count": 77,
   "id": "4f1d5f1e",
   "metadata": {},
   "outputs": [
    {
     "name": "stdout",
     "output_type": "stream",
     "text": [
      "[20 30 40 50]\n",
      "[0 1 2 3]\n"
     ]
    }
   ],
   "source": [
    "a = np.array([20, 30, 40, 50])\n",
    "b = np.arange(4)\n",
    "print(a)\n",
    "print(b)"
   ]
  },
  {
   "cell_type": "code",
   "execution_count": 78,
   "id": "4d2a3c61",
   "metadata": {},
   "outputs": [
    {
     "data": {
      "text/plain": [
       "array([20, 29, 38, 47])"
      ]
     },
     "execution_count": 78,
     "metadata": {},
     "output_type": "execute_result"
    }
   ],
   "source": [
    "c = a - b\n",
    "c"
   ]
  },
  {
   "cell_type": "code",
   "execution_count": 79,
   "id": "ba94e299",
   "metadata": {},
   "outputs": [
    {
     "data": {
      "text/plain": [
       "array([0, 1, 4, 9], dtype=int32)"
      ]
     },
     "execution_count": 79,
     "metadata": {},
     "output_type": "execute_result"
    }
   ],
   "source": [
    "b ** 2"
   ]
  },
  {
   "cell_type": "code",
   "execution_count": 80,
   "id": "7a1b11ac",
   "metadata": {},
   "outputs": [
    {
     "data": {
      "text/plain": [
       "array([ 0, 10, 20, 30])"
      ]
     },
     "execution_count": 80,
     "metadata": {},
     "output_type": "execute_result"
    }
   ],
   "source": [
    "b * 10"
   ]
  },
  {
   "cell_type": "code",
   "execution_count": 81,
   "id": "85385cc6",
   "metadata": {
    "scrolled": true
   },
   "outputs": [
    {
     "data": {
      "text/plain": [
       "[0,\n",
       " 1,\n",
       " 2,\n",
       " 3,\n",
       " 0,\n",
       " 1,\n",
       " 2,\n",
       " 3,\n",
       " 0,\n",
       " 1,\n",
       " 2,\n",
       " 3,\n",
       " 0,\n",
       " 1,\n",
       " 2,\n",
       " 3,\n",
       " 0,\n",
       " 1,\n",
       " 2,\n",
       " 3,\n",
       " 0,\n",
       " 1,\n",
       " 2,\n",
       " 3,\n",
       " 0,\n",
       " 1,\n",
       " 2,\n",
       " 3,\n",
       " 0,\n",
       " 1,\n",
       " 2,\n",
       " 3,\n",
       " 0,\n",
       " 1,\n",
       " 2,\n",
       " 3,\n",
       " 0,\n",
       " 1,\n",
       " 2,\n",
       " 3]"
      ]
     },
     "execution_count": 81,
     "metadata": {},
     "output_type": "execute_result"
    }
   ],
   "source": [
    "[0, 1, 2, 3] * 10"
   ]
  },
  {
   "cell_type": "code",
   "execution_count": 82,
   "id": "853bdcb1",
   "metadata": {},
   "outputs": [
    {
     "data": {
      "text/plain": [
       "array([ 9.12945251, -9.88031624,  7.4511316 , -2.62374854])"
      ]
     },
     "execution_count": 82,
     "metadata": {},
     "output_type": "execute_result"
    }
   ],
   "source": [
    "10 * np.sin(a)"
   ]
  },
  {
   "cell_type": "code",
   "execution_count": 83,
   "id": "5eaef8b5",
   "metadata": {},
   "outputs": [
    {
     "data": {
      "text/plain": [
       "array([ True,  True, False, False])"
      ]
     },
     "execution_count": 83,
     "metadata": {},
     "output_type": "execute_result"
    }
   ],
   "source": [
    "a < 35"
   ]
  },
  {
   "cell_type": "code",
   "execution_count": 85,
   "id": "92a46a46",
   "metadata": {},
   "outputs": [
    {
     "data": {
      "text/plain": [
       "array([20, 30, 40, 50])"
      ]
     },
     "execution_count": 85,
     "metadata": {},
     "output_type": "execute_result"
    }
   ],
   "source": [
    "a"
   ]
  },
  {
   "cell_type": "code",
   "execution_count": 86,
   "id": "1a5a0166",
   "metadata": {},
   "outputs": [
    {
     "data": {
      "text/plain": [
       "array([20, 30])"
      ]
     },
     "execution_count": 86,
     "metadata": {},
     "output_type": "execute_result"
    }
   ],
   "source": [
    "a[a < 35]"
   ]
  },
  {
   "cell_type": "code",
   "execution_count": 89,
   "id": "acf27363",
   "metadata": {},
   "outputs": [
    {
     "data": {
      "text/plain": [
       "array([[ 0,  1],\n",
       "       [ 2,  3],\n",
       "       [ 4,  5],\n",
       "       [ 6,  7],\n",
       "       [ 8,  9],\n",
       "       [10, 11]])"
      ]
     },
     "execution_count": 89,
     "metadata": {},
     "output_type": "execute_result"
    }
   ],
   "source": [
    "a = np.arange(12).reshape(6, 2)\n",
    "a"
   ]
  },
  {
   "cell_type": "code",
   "execution_count": 91,
   "id": "fe3f0f3f",
   "metadata": {},
   "outputs": [
    {
     "data": {
      "text/plain": [
       "array([[ 0,  2,  4,  6,  8, 10],\n",
       "       [ 1,  3,  5,  7,  9, 11]])"
      ]
     },
     "execution_count": 91,
     "metadata": {},
     "output_type": "execute_result"
    }
   ],
   "source": [
    "a.T"
   ]
  },
  {
   "cell_type": "code",
   "execution_count": 94,
   "id": "1df3e92b",
   "metadata": {},
   "outputs": [
    {
     "data": {
      "text/plain": [
       "(6, 2)"
      ]
     },
     "execution_count": 94,
     "metadata": {},
     "output_type": "execute_result"
    }
   ],
   "source": [
    "a.shape"
   ]
  },
  {
   "cell_type": "code",
   "execution_count": 95,
   "id": "248d6549",
   "metadata": {},
   "outputs": [
    {
     "data": {
      "text/plain": [
       "(2, 6)"
      ]
     },
     "execution_count": 95,
     "metadata": {},
     "output_type": "execute_result"
    }
   ],
   "source": [
    "a.T.shape"
   ]
  },
  {
   "cell_type": "code",
   "execution_count": 92,
   "id": "0a9d3855",
   "metadata": {},
   "outputs": [
    {
     "data": {
      "text/plain": [
       "array([[  1,   3,   5,   7,   9,  11],\n",
       "       [  3,  13,  23,  33,  43,  53],\n",
       "       [  5,  23,  41,  59,  77,  95],\n",
       "       [  7,  33,  59,  85, 111, 137],\n",
       "       [  9,  43,  77, 111, 145, 179],\n",
       "       [ 11,  53,  95, 137, 179, 221]])"
      ]
     },
     "execution_count": 92,
     "metadata": {},
     "output_type": "execute_result"
    }
   ],
   "source": [
    "a @ a.T"
   ]
  },
  {
   "cell_type": "code",
   "execution_count": 96,
   "id": "3ae72c87",
   "metadata": {},
   "outputs": [
    {
     "data": {
      "text/plain": [
       "(6, 6)"
      ]
     },
     "execution_count": 96,
     "metadata": {},
     "output_type": "execute_result"
    }
   ],
   "source": [
    "(a @ a.T).shape"
   ]
  },
  {
   "cell_type": "code",
   "execution_count": 93,
   "id": "0a52d432",
   "metadata": {},
   "outputs": [
    {
     "data": {
      "text/plain": [
       "array([[220, 250],\n",
       "       [250, 286]])"
      ]
     },
     "execution_count": 93,
     "metadata": {},
     "output_type": "execute_result"
    }
   ],
   "source": [
    "a.T @ a"
   ]
  },
  {
   "cell_type": "code",
   "execution_count": 97,
   "id": "48c6e418",
   "metadata": {},
   "outputs": [
    {
     "data": {
      "text/plain": [
       "(2, 2)"
      ]
     },
     "execution_count": 97,
     "metadata": {},
     "output_type": "execute_result"
    }
   ],
   "source": [
    "(a.T @ a).shape"
   ]
  },
  {
   "cell_type": "markdown",
   "id": "be58bb3e",
   "metadata": {},
   "source": [
    "## Хорошо, но в реальных нейронных сетях не один нейрон, как быть в этом случае?\n",
    "Вот нейронная сеть чуть посложнее, чем 1 нейрон  \n",
    "![](https://robocraft.ru/files/neuronet/backpropagation/img01.gif)"
   ]
  },
  {
   "cell_type": "markdown",
   "id": "7880d7f4",
   "metadata": {},
   "source": [
    "Анализируем:\n",
    "- Имеет два входа\n",
    "- Потом 3 нейрона\n",
    "- Потом еще 2\n",
    "- И потом еще 1"
   ]
  },
  {
   "cell_type": "markdown",
   "id": "9b643707",
   "metadata": {},
   "source": [
    "Сгенерируем выборку"
   ]
  },
  {
   "cell_type": "code",
   "execution_count": 31,
   "id": "8204c15e",
   "metadata": {},
   "outputs": [],
   "source": [
    "x_total = np.random.random(size=(10000, 2))"
   ]
  },
  {
   "cell_type": "code",
   "execution_count": 32,
   "id": "8259d045",
   "metadata": {},
   "outputs": [
    {
     "data": {
      "text/plain": [
       "array([[0.82283514, 0.4473193 ],\n",
       "       [0.55357875, 0.01568899],\n",
       "       [0.00321317, 0.68312152],\n",
       "       [0.34433634, 0.7446178 ],\n",
       "       [0.44748385, 0.89752049]])"
      ]
     },
     "execution_count": 32,
     "metadata": {},
     "output_type": "execute_result"
    }
   ],
   "source": [
    "x_total[:5]"
   ]
  },
  {
   "cell_type": "code",
   "execution_count": 33,
   "id": "c4107123",
   "metadata": {},
   "outputs": [
    {
     "data": {
      "text/plain": [
       "(10000, 2)"
      ]
     },
     "execution_count": 33,
     "metadata": {},
     "output_type": "execute_result"
    }
   ],
   "source": [
    "x_total.shape"
   ]
  },
  {
   "cell_type": "markdown",
   "id": "2becf90f",
   "metadata": {},
   "source": [
    "Теперь разберемся с весами:    \n",
    "У нас 3 нейрона, на каждый из них поступает сигнал с 2 входов.  \n",
    "В прошлом примере у нас был 1 нейрон с 3 входами, и мы делали `w = [random.random() for _ in range(3)]`  \n",
    "Теперь нейрон имеет 2 входа, значит `w = [random.random() for _ in range(2)]`"
   ]
  },
  {
   "cell_type": "code",
   "execution_count": 34,
   "id": "b9aff910",
   "metadata": {},
   "outputs": [],
   "source": [
    "w_1 = [random.random() for _ in range(2)]"
   ]
  },
  {
   "cell_type": "markdown",
   "id": "1e10c920",
   "metadata": {},
   "source": [
    "Но таких нейронов 3 штуки, значит, нужно 3 таких листа"
   ]
  },
  {
   "cell_type": "code",
   "execution_count": 35,
   "id": "fa30a2e8",
   "metadata": {},
   "outputs": [],
   "source": [
    "w_1 = [random.random() for _ in range(2)]\n",
    "w_2 = [random.random() for _ in range(2)]\n",
    "w_3 = [random.random() for _ in range(2)]"
   ]
  },
  {
   "cell_type": "markdown",
   "id": "32a4c804",
   "metadata": {},
   "source": [
    "Объединим их в один лист"
   ]
  },
  {
   "cell_type": "code",
   "execution_count": 36,
   "id": "175078ba",
   "metadata": {},
   "outputs": [],
   "source": [
    "w = [w_1, w_2, w_3]"
   ]
  },
  {
   "cell_type": "code",
   "execution_count": 37,
   "id": "60d135b9",
   "metadata": {},
   "outputs": [
    {
     "data": {
      "text/plain": [
       "[[0.03469703880701325, 0.9412822206059934],\n",
       " [0.5149446184525225, 0.335995540124698],\n",
       " [0.6414883079228135, 0.3235656419041443]]"
      ]
     },
     "execution_count": 37,
     "metadata": {},
     "output_type": "execute_result"
    }
   ],
   "source": [
    "w"
   ]
  },
  {
   "cell_type": "code",
   "execution_count": 38,
   "id": "48355c40",
   "metadata": {},
   "outputs": [
    {
     "data": {
      "text/plain": [
       "(3, 2)"
      ]
     },
     "execution_count": 38,
     "metadata": {},
     "output_type": "execute_result"
    }
   ],
   "source": [
    "w = np.array(w)\n",
    "w.shape"
   ]
  },
  {
   "cell_type": "markdown",
   "id": "fa6296b3",
   "metadata": {},
   "source": [
    "То есть матрица весов будет размером (__количество нейронов в слое__, __количество входных нейронов__)"
   ]
  },
  {
   "cell_type": "markdown",
   "id": "4e71ef1c",
   "metadata": {},
   "source": [
    "Если у нас будет 7 нейронов в слое с 3 выходами, то"
   ]
  },
  {
   "cell_type": "code",
   "execution_count": 39,
   "id": "bab140af",
   "metadata": {},
   "outputs": [],
   "source": [
    "w = np.random.random(size=(7, 3))"
   ]
  },
  {
   "cell_type": "code",
   "execution_count": 40,
   "id": "62c4da04",
   "metadata": {},
   "outputs": [
    {
     "data": {
      "text/plain": [
       "array([[0.27696143, 0.87962476, 0.73792153],\n",
       "       [0.31403014, 0.08928159, 0.90207004],\n",
       "       [0.08169356, 0.32491989, 0.05152714],\n",
       "       [0.43393239, 0.26814324, 0.47416476],\n",
       "       [0.67677783, 0.25095344, 0.01624862],\n",
       "       [0.00260219, 0.74177418, 0.26148313],\n",
       "       [0.47190528, 0.64454532, 0.79976737]])"
      ]
     },
     "execution_count": 40,
     "metadata": {},
     "output_type": "execute_result"
    }
   ],
   "source": [
    "w"
   ]
  },
  {
   "cell_type": "code",
   "execution_count": 41,
   "id": "79282498",
   "metadata": {},
   "outputs": [
    {
     "data": {
      "text/plain": [
       "(7, 3)"
      ]
     },
     "execution_count": 41,
     "metadata": {},
     "output_type": "execute_result"
    }
   ],
   "source": [
    "w.shape"
   ]
  },
  {
   "cell_type": "markdown",
   "id": "dbcfd3cf",
   "metadata": {},
   "source": [
    "#### Вернемся к нашей изначальной нейросети с 3 нейронами в первом слое и 2 входами"
   ]
  },
  {
   "cell_type": "code",
   "execution_count": 42,
   "id": "d4d93a01",
   "metadata": {
    "scrolled": true
   },
   "outputs": [
    {
     "data": {
      "text/plain": [
       "array([[0.10782442, 0.29883984],\n",
       "       [0.89849684, 0.09412962],\n",
       "       [0.10081501, 0.97177471]])"
      ]
     },
     "execution_count": 42,
     "metadata": {},
     "output_type": "execute_result"
    }
   ],
   "source": [
    "w = np.random.random(size=(3, 2))\n",
    "w"
   ]
  },
  {
   "cell_type": "markdown",
   "id": "7f23fdc2",
   "metadata": {},
   "source": [
    "У нас есть X, у нас есть W, давайте их женить"
   ]
  },
  {
   "cell_type": "code",
   "execution_count": 43,
   "id": "9a2eeb28",
   "metadata": {},
   "outputs": [
    {
     "data": {
      "text/plain": [
       "(10000, 2)"
      ]
     },
     "execution_count": 43,
     "metadata": {},
     "output_type": "execute_result"
    }
   ],
   "source": [
    "x_total.shape"
   ]
  },
  {
   "cell_type": "code",
   "execution_count": 44,
   "id": "6b5f57b5",
   "metadata": {},
   "outputs": [
    {
     "data": {
      "text/plain": [
       "(3, 2)"
      ]
     },
     "execution_count": 44,
     "metadata": {},
     "output_type": "execute_result"
    }
   ],
   "source": [
    "w.shape"
   ]
  },
  {
   "cell_type": "markdown",
   "id": "a528ec04",
   "metadata": {},
   "source": [
    "Если имеем 10000 наблюдений, то после прохода через 3 нейрона у нас должна быть матрица (10000, 3).  \n",
    "Имеем матрицы (10000, 2) и (3, 2), как сделать (10000, 3)?"
   ]
  },
  {
   "cell_type": "code",
   "execution_count": 45,
   "id": "74efc47b",
   "metadata": {},
   "outputs": [],
   "source": [
    "output = x_total @ w.T"
   ]
  },
  {
   "cell_type": "code",
   "execution_count": 46,
   "id": "0f044009",
   "metadata": {},
   "outputs": [
    {
     "data": {
      "text/plain": [
       "array([[0.22239855, 0.78142077, 0.51764772],\n",
       "       [0.06437781, 0.49886556, 0.07105522],\n",
       "       [0.20449039, 0.06718899, 0.66416415],\n",
       "       [0.25964933, 0.3794757 , 0.75831502],\n",
       "       [0.31646457, 0.48654609, 0.91730081]])"
      ]
     },
     "execution_count": 46,
     "metadata": {},
     "output_type": "execute_result"
    }
   ],
   "source": [
    "output[:5]"
   ]
  },
  {
   "cell_type": "code",
   "execution_count": 47,
   "id": "e7bbaf46",
   "metadata": {},
   "outputs": [
    {
     "data": {
      "text/plain": [
       "(10000, 3)"
      ]
     },
     "execution_count": 47,
     "metadata": {},
     "output_type": "execute_result"
    }
   ],
   "source": [
    "output.shape"
   ]
  },
  {
   "cell_type": "markdown",
   "id": "151cd716",
   "metadata": {},
   "source": [
    "#### Дальше имеем 2 нейрона, где каждый получает сигнал от 3 сзадистоящих.  \n",
    "Значит"
   ]
  },
  {
   "cell_type": "code",
   "execution_count": 48,
   "id": "993777c4",
   "metadata": {},
   "outputs": [],
   "source": [
    "w2 = np.random.random(size=(2, 3))"
   ]
  },
  {
   "cell_type": "markdown",
   "id": "f0319014",
   "metadata": {},
   "source": [
    "Как посчитать значения на нейронах дальше?  \n",
    "Опять умножением"
   ]
  },
  {
   "cell_type": "code",
   "execution_count": 49,
   "id": "a2a17140",
   "metadata": {},
   "outputs": [
    {
     "data": {
      "text/plain": [
       "(10000, 3)"
      ]
     },
     "execution_count": 49,
     "metadata": {},
     "output_type": "execute_result"
    }
   ],
   "source": [
    "output.shape"
   ]
  },
  {
   "cell_type": "code",
   "execution_count": 50,
   "id": "3d85ce14",
   "metadata": {},
   "outputs": [
    {
     "data": {
      "text/plain": [
       "(2, 3)"
      ]
     },
     "execution_count": 50,
     "metadata": {},
     "output_type": "execute_result"
    }
   ],
   "source": [
    "w2.shape"
   ]
  },
  {
   "cell_type": "markdown",
   "id": "b723b51c",
   "metadata": {},
   "source": [
    "Из (10000, 3) и (2, 3) должны получить (10000, 2)."
   ]
  },
  {
   "cell_type": "code",
   "execution_count": 51,
   "id": "0579673b",
   "metadata": {},
   "outputs": [],
   "source": [
    "output_2 = output @ w2.T"
   ]
  },
  {
   "cell_type": "code",
   "execution_count": 52,
   "id": "5dea06a6",
   "metadata": {},
   "outputs": [
    {
     "data": {
      "text/plain": [
       "array([[0.70819466, 0.53500584],\n",
       "       [0.25250163, 0.10501544],\n",
       "       [0.53770694, 0.61100732],\n",
       "       [0.73399218, 0.72203646],\n",
       "       [0.89878796, 0.87563458],\n",
       "       [0.5604566 , 0.49098407],\n",
       "       [0.16804757, 0.10244831],\n",
       "       [0.28505656, 0.283178  ],\n",
       "       [0.74039557, 0.56043752],\n",
       "       [0.90926133, 0.78518365]])"
      ]
     },
     "execution_count": 52,
     "metadata": {},
     "output_type": "execute_result"
    }
   ],
   "source": [
    "output_2[:10]"
   ]
  },
  {
   "cell_type": "code",
   "execution_count": 53,
   "id": "45eaf048",
   "metadata": {},
   "outputs": [
    {
     "data": {
      "text/plain": [
       "(10000, 2)"
      ]
     },
     "execution_count": 53,
     "metadata": {},
     "output_type": "execute_result"
    }
   ],
   "source": [
    "output_2.shape"
   ]
  },
  {
   "cell_type": "markdown",
   "id": "4a1f6802",
   "metadata": {},
   "source": [
    "#### В самом конце у нас один нейрон, значит"
   ]
  },
  {
   "cell_type": "code",
   "execution_count": 54,
   "id": "588da18a",
   "metadata": {},
   "outputs": [],
   "source": [
    "w3 = np.random.random(size=(1, 2))\n",
    "output_3 = output_2 @ w3.T"
   ]
  },
  {
   "cell_type": "code",
   "execution_count": 55,
   "id": "586fb20e",
   "metadata": {},
   "outputs": [
    {
     "data": {
      "text/plain": [
       "array([[0.09965938],\n",
       "       [0.02518428],\n",
       "       [0.10038697],\n",
       "       [0.12351217],\n",
       "       [0.15021553],\n",
       "       [0.08702704],\n",
       "       [0.02069061],\n",
       "       [0.04830145],\n",
       "       [0.10432423],\n",
       "       [0.13981685]])"
      ]
     },
     "execution_count": 55,
     "metadata": {},
     "output_type": "execute_result"
    }
   ],
   "source": [
    "output_3[:10]"
   ]
  },
  {
   "cell_type": "code",
   "execution_count": 56,
   "id": "98178aa5",
   "metadata": {},
   "outputs": [
    {
     "data": {
      "text/plain": [
       "(10000, 1)"
      ]
     },
     "execution_count": 56,
     "metadata": {},
     "output_type": "execute_result"
    }
   ],
   "source": [
    "output_3.shape"
   ]
  },
  {
   "cell_type": "markdown",
   "id": "8e00ffc1",
   "metadata": {},
   "source": [
    "Бинго, мы получили 1 чиселко для каждого из 10000 наблюдений в выборке."
   ]
  },
  {
   "cell_type": "markdown",
   "id": "fa6622f0",
   "metadata": {},
   "source": [
    "![](http://memesmix.net/media/created/l7sksl.jpg)"
   ]
  },
  {
   "cell_type": "markdown",
   "id": "162794ab",
   "metadata": {},
   "source": [
    "## Это здорово, но как сети учатся?  \n",
    "Это мы узнаем на следующем семинаре"
   ]
  }
 ],
 "metadata": {
  "kernelspec": {
   "display_name": "misis_mag_nn_fall_2023-venv",
   "language": "python",
   "name": "misis_mag_nn_fall_2023-venv"
  },
  "language_info": {
   "codemirror_mode": {
    "name": "ipython",
    "version": 3
   },
   "file_extension": ".py",
   "mimetype": "text/x-python",
   "name": "python",
   "nbconvert_exporter": "python",
   "pygments_lexer": "ipython3",
   "version": "3.9.6"
  }
 },
 "nbformat": 4,
 "nbformat_minor": 5
}
